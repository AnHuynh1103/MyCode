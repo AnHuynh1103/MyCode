{
  "nbformat": 4,
  "nbformat_minor": 0,
  "metadata": {
    "colab": {
      "provenance": []
    },
    "kernelspec": {
      "name": "python3",
      "display_name": "Python 3"
    },
    "language_info": {
      "name": "python"
    },
    "accelerator": "GPU",
    "gpuClass": "standard"
  },
  "cells": [
    {
      "cell_type": "code",
      "execution_count": null,
      "metadata": {
        "colab": {
          "base_uri": "https://localhost:8080/"
        },
        "id": "18exMMWnsPN9",
        "outputId": "c128911c-b59b-42d4-b8e1-38b0d3c4e7a2"
      },
      "outputs": [
        {
          "output_type": "stream",
          "name": "stdout",
          "text": [
            "Mounted at /content/drive\n"
          ]
        }
      ],
      "source": [
        "from google.colab import drive\n",
        "drive.mount('/content/drive')"
      ]
    },
    {
      "cell_type": "code",
      "source": [
        "import pickle\n",
        "import os\n",
        "import cv2 as cv\n",
        "import numpy as np\n",
        "from tqdm import tqdm\n",
        "import matplotlib.pyplot as plt"
      ],
      "metadata": {
        "id": "DGnn0sS-sWL6"
      },
      "execution_count": null,
      "outputs": []
    },
    {
      "cell_type": "code",
      "source": [
        "datadir = \"/content/drive/MyDrive/AI_HW/faces/data\"\n",
        "categories=['An','Hy','Quang','Thang']\n",
        "img_size=100\n",
        "for category in categories:\n",
        "  path=os.path.join(datadir,category)\n",
        "  for img in os.listdir(path):\n",
        "    img_array = cv.imread(os.path.join(path,img),cv.IMREAD_GRAYSCALE)\n",
        "    new_array = cv.resize(img_array,(30,40))\n",
        "    print(new_array)\n",
        "    plt.imshow(new_array,cmap='gray')\n",
        "    plt.show()\n",
        "    break\n",
        "  break"
      ],
      "metadata": {
        "colab": {
          "base_uri": "https://localhost:8080/",
          "height": 558
        },
        "id": "IA07w9e6sbDw",
        "outputId": "30f5f8b1-3528-419b-c398-89c672b3800e"
      },
      "execution_count": null,
      "outputs": [
        {
          "output_type": "stream",
          "name": "stdout",
          "text": [
            "[[54 55 58 ... 48 49 50]\n",
            " [52 54 57 ... 47 50 52]\n",
            " [55 57 60 ... 46 50 53]\n",
            " ...\n",
            " [49 47 44 ... 67 68 66]\n",
            " [45 46 45 ... 70 69 65]\n",
            " [45 45 44 ... 69 68 65]]\n"
          ]
        },
        {
          "output_type": "display_data",
          "data": {
            "text/plain": [
              "<Figure size 640x480 with 1 Axes>"
            ],
            "image/png": "[encoded data removed]"
          },
          "metadata": {}
        }
      ]
    },
    {
      "cell_type": "code",
      "source": [
        "#Create training data:\n",
        "training_data=[]\n",
        "def create_traning_data():\n",
        "  for category in categories:\n",
        "    path = os.path.join(datadir,category)\n",
        "    class_num = categories.index(category)\n",
        "\n",
        "    for img in tqdm(os.listdir(path)):\n",
        "      try:\n",
        "        img_array =cv.imread(os.path.join(path,img),cv.IMREAD_GRAYSCALE)\n",
        "        new_array = cv.resize(img_array,(30,40))\n",
        "        training_data.append([new_array,class_num])\n",
        "      except Exception as e:\n",
        "        pass\n",
        "create_traning_data()\n",
        "print(len(training_data))"
      ],
      "metadata": {
        "colab": {
          "base_uri": "https://localhost:8080/"
        },
        "id": "ZzvptqDFsrI7",
        "outputId": "ba584b9b-f1bb-40c8-c50c-c0f327144402"
      },
      "execution_count": null,
      "outputs": [
        {
          "output_type": "stream",
          "name": "stderr",
          "text": [
            "100%|██████████| 204/204 [00:01<00:00, 135.55it/s]\n",
            "100%|██████████| 60/60 [00:18<00:00,  3.27it/s]\n",
            "100%|██████████| 60/60 [00:20<00:00,  2.96it/s]\n",
            "100%|██████████| 60/60 [00:18<00:00,  3.31it/s]"
          ]
        },
        {
          "output_type": "stream",
          "name": "stdout",
          "text": [
            "384\n"
          ]
        },
        {
          "output_type": "stream",
          "name": "stderr",
          "text": [
            "\n"
          ]
        }
      ]
    },
    {
      "cell_type": "code",
      "source": [
        "#saving (x:features), (y:label)\n",
        "x=[]\n",
        "y=[]\n",
        "for features, label in training_data :\n",
        " x.append(features)\n",
        " y.append(label)\n",
        "x=np.array(x).reshape(-1,30,40,1)\n",
        "y=np.array(y)\n",
        "print('x',x.shape)\n",
        "print('y',y.shape)"
      ],
      "metadata": {
        "colab": {
          "base_uri": "https://localhost:8080/"
        },
        "id": "jxIBO1lbthl8",
        "outputId": "5ae6ca0e-40e5-4015-f54d-c436417db8c2"
      },
      "execution_count": null,
      "outputs": [
        {
          "output_type": "stream",
          "name": "stdout",
          "text": [
            "x (384, 30, 40, 1)\n",
            "y (384,)\n"
          ]
        }
      ]
    },
    {
      "cell_type": "code",
      "source": [
        "#saving x, y as file.pickle into drive\n",
        "pickle_out = open(\"/content/drive/MyDrive/AI_HW/faces/SAVE/x.pickle\",\"wb\")\n",
        "pickle.dump(x, pickle_out)\n",
        "pickle_out.close()\n",
        "\n",
        "pickle_out = open(\"/content/drive/MyDrive/AI_HW/faces/SAVE/y.pickle\",\"wb\")\n",
        "pickle.dump(y, pickle_out)\n",
        "pickle_out.close()"
      ],
      "metadata": {
        "id": "lMrNfRZztjl_"
      },
      "execution_count": null,
      "outputs": []
    },
    {
      "cell_type": "code",
      "source": [
        "#BUILD MODEL\n",
        "from keras.models import Sequential\n",
        "from keras.layers import Dense, Dropout, Flatten, Conv2D, MaxPool2D, Normalization, LeakyReLU\n",
        "from keras.optimizers import Adam"
      ],
      "metadata": {
        "id": "jioIaZFNtuUR"
      },
      "execution_count": null,
      "outputs": []
    },
    {
      "cell_type": "code",
      "source": [
        "pickle_in = open(\"/content/drive/MyDrive/AI_HW/faces/SAVE/x.pickle\",\"rb\")\n",
        "x_train = pickle.load(pickle_in)\n",
        "\n",
        "pickle_in = open(\"/content/drive/MyDrive/AI_HW/faces/SAVE/y.pickle\",\"rb\")\n",
        "y_train = pickle.load(pickle_in)"
      ],
      "metadata": {
        "id": "E9Fs-ifqtxS2"
      },
      "execution_count": null,
      "outputs": []
    },
    {
      "cell_type": "code",
      "source": [
        "x_train=x_train/255.0\n",
        "print('X train',x_train.shape)"
      ],
      "metadata": {
        "colab": {
          "base_uri": "https://localhost:8080/"
        },
        "id": "qCQ4q19VtzIK",
        "outputId": "f24eb777-608e-4370-bf1e-f0ec3a49d964"
      },
      "execution_count": null,
      "outputs": [
        {
          "output_type": "stream",
          "name": "stdout",
          "text": [
            "X train (384, 30, 40, 1)\n"
          ]
        }
      ]
    },
    {
      "cell_type": "code",
      "source": [
        "from keras.utils import to_categorical #ONE HOT ENCODING\n",
        "y_train= to_categorical(y,4)\n",
        "print('Y train',y_train.shape)"
      ],
      "metadata": {
        "colab": {
          "base_uri": "https://localhost:8080/"
        },
        "id": "_w-RnKqSt0kb",
        "outputId": "aa6323bc-7801-4f7c-fcb0-f85908032685"
      },
      "execution_count": null,
      "outputs": [
        {
          "output_type": "stream",
          "name": "stdout",
          "text": [
            "Y train (384, 4)\n"
          ]
        }
      ]
    },
    {
      "cell_type": "code",
      "source": [
        "model=Sequential()\n",
        "\n",
        "#layer\n",
        "model.add(Conv2D(32,kernel_size = (3,3), activation = 'relu',\n",
        "                 input_shape = (30,40,1),\n",
        "                 padding = 'same'))\n",
        "model.add(LeakyReLU(alpha = 0.1))\n",
        "model.add(MaxPool2D((2,2),padding = 'same'))\n",
        "model.add(Dropout(0.1))\n",
        "\n",
        "#layer\n",
        "model.add(Conv2D(64,(3,3), activation = 'relu',\n",
        "                 padding = 'same'))\n",
        "model.add(LeakyReLU(alpha = 0.1))\n",
        "model.add(MaxPool2D((2,2),padding = 'same'))\n",
        "model.add(Dropout(0.1))\n",
        "\n",
        "#layer\n",
        "model.add(Conv2D(128,(3,3), activation = 'relu',\n",
        "                 padding = 'same'))\n",
        "model.add(LeakyReLU(alpha = 0.1))\n",
        "model.add(MaxPool2D((2,2),padding = 'same'))\n",
        "model.add(Dropout(0.1))\n",
        "\n",
        "#ANN\n",
        "model.add(Flatten())\n",
        "model.add(Dense(128, activation = 'relu'))\n",
        "model.add(LeakyReLU(alpha = 0.1))\n",
        "model.add(Dense(4, activation = 'softmax'))\n",
        "\n",
        "from keras.losses import categorical_crossentropy\n",
        "model.compile(loss = 'categorical_crossentropy', optimizer = Adam(),\n",
        "              metrics = ['accuracy'])\n",
        "model.summary()\n",
        "history = model.fit(x_train, y_train, batch_size = 64, epochs = 60, verbose = 1)"
      ],
      "metadata": {
        "colab": {
          "base_uri": "https://localhost:8080/"
        },
        "id": "0hPUnNQ3uAXW",
        "outputId": "b6b346cc-a36c-4375-a0fd-10d1adb96bff"
      },
      "execution_count": null,
      "outputs": [
        {
          "output_type": "stream",
          "name": "stdout",
          "text": [
            "Model: \"sequential_1\"\n",
            "_________________________________________________________________\n",
            " Layer (type)                Output Shape              Param #   \n",
            "=================================================================\n",
            " conv2d_3 (Conv2D)           (None, 30, 40, 32)        320       \n",
            "                                                                 \n",
            " leaky_re_lu_4 (LeakyReLU)   (None, 30, 40, 32)        0         \n",
            "                                                                 \n",
            " max_pooling2d_3 (MaxPooling  (None, 15, 20, 32)       0         \n",
            " 2D)                                                             \n",
            "                                                                 \n",
            " dropout_3 (Dropout)         (None, 15, 20, 32)        0         \n",
            "                                                                 \n",
            " conv2d_4 (Conv2D)           (None, 15, 20, 64)        18496     \n",
            "                                                                 \n",
            " leaky_re_lu_5 (LeakyReLU)   (None, 15, 20, 64)        0         \n",
            "                                                                 \n",
            " max_pooling2d_4 (MaxPooling  (None, 8, 10, 64)        0         \n",
            " 2D)                                                             \n",
            "                                                                 \n",
            " dropout_4 (Dropout)         (None, 8, 10, 64)         0         \n",
            "                                                                 \n",
            " conv2d_5 (Conv2D)           (None, 8, 10, 128)        73856     \n",
            "                                                                 \n",
            " leaky_re_lu_6 (LeakyReLU)   (None, 8, 10, 128)        0         \n",
            "                                                                 \n",
            " max_pooling2d_5 (MaxPooling  (None, 4, 5, 128)        0         \n",
            " 2D)                                                             \n",
            "                                                                 \n",
            " dropout_5 (Dropout)         (None, 4, 5, 128)         0         \n",
            "                                                                 \n",
            " flatten_1 (Flatten)         (None, 2560)              0         \n",
            "                                                                 \n",
            " dense_2 (Dense)             (None, 128)               327808    \n",
            "                                                                 \n",
            " leaky_re_lu_7 (LeakyReLU)   (None, 128)               0         \n",
            "                                                                 \n",
            " dense_3 (Dense)             (None, 4)                 516       \n",
            "                                                                 \n",
            "=================================================================\n",
            "Total params: 420,996\n",
            "Trainable params: 420,996\n",
            "Non-trainable params: 0\n",
            "_________________________________________________________________\n",
            "Epoch 1/60\n",
            "6/6 [==============================] - 12s 13ms/step - loss: 1.2865 - accuracy: 0.4583\n",
            "Epoch 2/60\n",
            "6/6 [==============================] - 0s 12ms/step - loss: 1.0588 - accuracy: 0.5938\n",
            "Epoch 3/60\n",
            "6/6 [==============================] - 0s 13ms/step - loss: 0.6831 - accuracy: 0.6927\n",
            "Epoch 4/60\n",
            "6/6 [==============================] - 0s 12ms/step - loss: 0.3290 - accuracy: 0.8672\n",
            "Epoch 5/60\n",
            "6/6 [==============================] - 0s 12ms/step - loss: 0.1852 - accuracy: 0.9245\n",
            "Epoch 6/60\n",
            "6/6 [==============================] - 0s 10ms/step - loss: 0.1258 - accuracy: 0.9479\n",
            "Epoch 7/60\n",
            "6/6 [==============================] - 0s 10ms/step - loss: 0.0623 - accuracy: 0.9740\n",
            "Epoch 8/60\n",
            "6/6 [==============================] - 0s 8ms/step - loss: 0.0539 - accuracy: 0.9844\n",
            "Epoch 9/60\n",
            "6/6 [==============================] - 0s 9ms/step - loss: 0.0503 - accuracy: 0.9844\n",
            "Epoch 10/60\n",
            "6/6 [==============================] - 0s 13ms/step - loss: 0.0393 - accuracy: 0.9948\n",
            "Epoch 11/60\n",
            "6/6 [==============================] - 0s 17ms/step - loss: 0.0411 - accuracy: 0.9948\n",
            "Epoch 12/60\n",
            "6/6 [==============================] - 0s 14ms/step - loss: 0.0309 - accuracy: 0.9896\n",
            "Epoch 13/60\n",
            "6/6 [==============================] - 0s 9ms/step - loss: 0.0423 - accuracy: 0.9870\n",
            "Epoch 14/60\n",
            "6/6 [==============================] - 0s 9ms/step - loss: 0.0333 - accuracy: 0.9922\n",
            "Epoch 15/60\n",
            "6/6 [==============================] - 0s 9ms/step - loss: 0.0270 - accuracy: 0.9922\n",
            "Epoch 16/60\n",
            "6/6 [==============================] - 0s 13ms/step - loss: 0.0096 - accuracy: 0.9974\n",
            "Epoch 17/60\n",
            "6/6 [==============================] - 0s 13ms/step - loss: 0.0129 - accuracy: 0.9948\n",
            "Epoch 18/60\n",
            "6/6 [==============================] - 0s 8ms/step - loss: 0.0132 - accuracy: 0.9948\n",
            "Epoch 19/60\n",
            "6/6 [==============================] - 0s 9ms/step - loss: 0.0113 - accuracy: 0.9974\n",
            "Epoch 20/60\n",
            "6/6 [==============================] - 0s 9ms/step - loss: 0.0080 - accuracy: 0.9974\n",
            "Epoch 21/60\n",
            "6/6 [==============================] - 0s 8ms/step - loss: 0.0047 - accuracy: 1.0000\n",
            "Epoch 22/60\n",
            "6/6 [==============================] - 0s 8ms/step - loss: 0.0029 - accuracy: 1.0000\n",
            "Epoch 23/60\n",
            "6/6 [==============================] - 0s 8ms/step - loss: 0.0080 - accuracy: 0.9974\n",
            "Epoch 24/60\n",
            "6/6 [==============================] - 0s 8ms/step - loss: 0.0043 - accuracy: 1.0000\n",
            "Epoch 25/60\n",
            "6/6 [==============================] - 0s 9ms/step - loss: 0.0025 - accuracy: 1.0000\n",
            "Epoch 26/60\n",
            "6/6 [==============================] - 0s 8ms/step - loss: 9.3969e-04 - accuracy: 1.0000\n",
            "Epoch 27/60\n",
            "6/6 [==============================] - 0s 13ms/step - loss: 8.2392e-04 - accuracy: 1.0000\n",
            "Epoch 28/60\n",
            "6/6 [==============================] - 0s 8ms/step - loss: 9.1925e-04 - accuracy: 1.0000\n",
            "Epoch 29/60\n",
            "6/6 [==============================] - 0s 9ms/step - loss: 0.0012 - accuracy: 1.0000\n",
            "Epoch 30/60\n",
            "6/6 [==============================] - 0s 8ms/step - loss: 0.0056 - accuracy: 0.9974\n",
            "Epoch 31/60\n",
            "6/6 [==============================] - 0s 9ms/step - loss: 0.0066 - accuracy: 0.9974\n",
            "Epoch 32/60\n",
            "6/6 [==============================] - 0s 8ms/step - loss: 0.0056 - accuracy: 0.9974\n",
            "Epoch 33/60\n",
            "6/6 [==============================] - 0s 9ms/step - loss: 0.0014 - accuracy: 1.0000\n",
            "Epoch 34/60\n",
            "6/6 [==============================] - 0s 9ms/step - loss: 8.9029e-04 - accuracy: 1.0000\n",
            "Epoch 35/60\n",
            "6/6 [==============================] - 0s 9ms/step - loss: 6.5572e-04 - accuracy: 1.0000\n",
            "Epoch 36/60\n",
            "6/6 [==============================] - 0s 8ms/step - loss: 4.0068e-04 - accuracy: 1.0000\n",
            "Epoch 37/60\n",
            "6/6 [==============================] - 0s 8ms/step - loss: 5.9770e-04 - accuracy: 1.0000\n",
            "Epoch 38/60\n",
            "6/6 [==============================] - 0s 8ms/step - loss: 5.5658e-04 - accuracy: 1.0000\n",
            "Epoch 39/60\n",
            "6/6 [==============================] - 0s 8ms/step - loss: 4.6471e-04 - accuracy: 1.0000\n",
            "Epoch 40/60\n",
            "6/6 [==============================] - 0s 9ms/step - loss: 6.3265e-04 - accuracy: 1.0000\n",
            "Epoch 41/60\n",
            "6/6 [==============================] - 0s 14ms/step - loss: 4.0120e-04 - accuracy: 1.0000\n",
            "Epoch 42/60\n",
            "6/6 [==============================] - 0s 14ms/step - loss: 5.1426e-04 - accuracy: 1.0000\n",
            "Epoch 43/60\n",
            "6/6 [==============================] - 0s 14ms/step - loss: 0.0014 - accuracy: 1.0000\n",
            "Epoch 44/60\n",
            "6/6 [==============================] - 0s 10ms/step - loss: 0.0010 - accuracy: 1.0000\n",
            "Epoch 45/60\n",
            "6/6 [==============================] - 0s 9ms/step - loss: 0.0016 - accuracy: 1.0000\n",
            "Epoch 46/60\n",
            "6/6 [==============================] - 0s 8ms/step - loss: 0.0017 - accuracy: 1.0000\n",
            "Epoch 47/60\n",
            "6/6 [==============================] - 0s 8ms/step - loss: 0.0011 - accuracy: 1.0000\n",
            "Epoch 48/60\n",
            "6/6 [==============================] - 0s 8ms/step - loss: 6.7319e-04 - accuracy: 1.0000\n",
            "Epoch 49/60\n",
            "6/6 [==============================] - 0s 8ms/step - loss: 0.0020 - accuracy: 1.0000\n",
            "Epoch 50/60\n",
            "6/6 [==============================] - 0s 10ms/step - loss: 1.7901e-04 - accuracy: 1.0000\n",
            "Epoch 51/60\n",
            "6/6 [==============================] - 0s 8ms/step - loss: 0.0015 - accuracy: 1.0000\n",
            "Epoch 52/60\n",
            "6/6 [==============================] - 0s 8ms/step - loss: 0.0016 - accuracy: 1.0000\n",
            "Epoch 53/60\n",
            "6/6 [==============================] - 0s 8ms/step - loss: 0.0023 - accuracy: 1.0000\n",
            "Epoch 54/60\n",
            "6/6 [==============================] - 0s 8ms/step - loss: 0.0064 - accuracy: 0.9974\n",
            "Epoch 55/60\n",
            "6/6 [==============================] - 0s 10ms/step - loss: 0.0030 - accuracy: 1.0000\n",
            "Epoch 56/60\n",
            "6/6 [==============================] - 0s 9ms/step - loss: 0.0017 - accuracy: 1.0000\n",
            "Epoch 57/60\n",
            "6/6 [==============================] - 0s 9ms/step - loss: 0.0016 - accuracy: 1.0000\n",
            "Epoch 58/60\n",
            "6/6 [==============================] - 0s 12ms/step - loss: 0.0024 - accuracy: 1.0000\n",
            "Epoch 59/60\n",
            "6/6 [==============================] - 0s 15ms/step - loss: 0.0011 - accuracy: 1.0000\n",
            "Epoch 60/60\n",
            "6/6 [==============================] - 0s 14ms/step - loss: 2.1431e-04 - accuracy: 1.0000\n"
          ]
        }
      ]
    },
    {
      "cell_type": "code",
      "source": [
        "plt.plot(history.history['accuracy'])\n",
        "plt.title('Model accuracy')\n",
        "plt.ylabel('accuracy')\n",
        "plt.xlabel('epoch')\n",
        "plt.show()"
      ],
      "metadata": {
        "colab": {
          "base_uri": "https://localhost:8080/",
          "height": 472
        },
        "id": "5Fu0EqAKuL_X",
        "outputId": "dabdd0b5-f417-4a54-dda7-4b0684b086a0"
      },
      "execution_count": null,
      "outputs": [
        {
          "output_type": "display_data",
          "data": {
            "text/plain": [
              "<Figure size 640x480 with 1 Axes>"
            ],
            "image/png": "[encoded data removed]"
          },
          "metadata": {}
        }
      ]
    },
    {
      "cell_type": "code",
      "source": [
        "model.save('faces.h5')"
      ],
      "metadata": {
        "id": "GwLg9roQuSO4"
      },
      "execution_count": null,
      "outputs": []
    },
    {
      "cell_type": "code",
      "source": [
        "from keras.models import load_model\n",
        "from keras.utils import load_img,img_to_array\n",
        "from skimage import color\n",
        "from skimage import io"
      ],
      "metadata": {
        "id": "TjiWM_5juVel"
      },
      "execution_count": null,
      "outputs": []
    },
    {
      "cell_type": "code",
      "source": [
        "model_faces = load_model('/content/drive/MyDrive/AI_HW/faces/SAVE/faces.h5')"
      ],
      "metadata": {
        "id": "wn3bxUv3uXp4"
      },
      "execution_count": null,
      "outputs": []
    },
    {
      "cell_type": "code",
      "source": [
        "# load and prepare the image\n",
        "def load_image(filename):\n",
        "    # load the image\n",
        "    img = load_img(filename, target_size=(30, 40))\n",
        "    return img\n",
        "\n",
        "labels = {0:'An',\n",
        "          1:'Hy',\n",
        "          2:'Quang',\n",
        "          3:'Thang'}"
      ],
      "metadata": {
        "id": "V_c7GGdWuiSj"
      },
      "execution_count": null,
      "outputs": []
    },
    {
      "cell_type": "code",
      "source": [
        "#load img and test:\n",
        "img = load_image('/content/drive/MyDrive/AI_HW/test_all/face/An/An2.jpg')\n",
        "plt.imshow(img)\n",
        "img = img_to_array(img)\n",
        "img = cv.cvtColor(img,cv.COLOR_BGR2GRAY)\n",
        "img = img.reshape(1,30,40,1)\n",
        "result = model_faces.predict(img)\n",
        "print(result)\n",
        "np.argmax(result)\n",
        "print('expectation:',labels[np.argmax(result)])"
      ],
      "metadata": {
        "colab": {
          "base_uri": "https://localhost:8080/",
          "height": 485
        },
        "id": "NNMxKh0Wuni9",
        "outputId": "84931120-ff63-454e-aa36-9c018d58ca2f"
      },
      "execution_count": null,
      "outputs": [
        {
          "output_type": "stream",
          "name": "stdout",
          "text": [
            "1/1 [==============================] - 0s 20ms/step\n",
            "[[1. 0. 0. 0.]]\n",
            "expectation: An\n"
          ]
        },
        {
          "output_type": "display_data",
          "data": {
            "text/plain": [
              "<Figure size 640x480 with 1 Axes>"
            ],
            "image/png": "[encoded data removed]"
          },
          "metadata": {}
        }
      ]
    },
    {
      "cell_type": "code",
      "source": [
        "#load img and test:\n",
        "img = load_image('/content/drive/MyDrive/AI_HW/test_all/face/Hy/Hy (9).jpg')\n",
        "plt.imshow(img)\n",
        "img = img_to_array(img)\n",
        "img = cv.cvtColor(img,cv.COLOR_BGR2GRAY)\n",
        "img = img.reshape(1,30,40,1)\n",
        "result = model_faces.predict(img)\n",
        "print(result)\n",
        "np.argmax(result)\n",
        "print('expectation:',labels[np.argmax(result)])"
      ],
      "metadata": {
        "colab": {
          "base_uri": "https://localhost:8080/",
          "height": 485
        },
        "id": "rlEyPAJqwyw5",
        "outputId": "75a205cb-e3c3-495c-8eaa-463232ef10d1"
      },
      "execution_count": null,
      "outputs": [
        {
          "output_type": "stream",
          "name": "stdout",
          "text": [
            "1/1 [==============================] - 0s 23ms/step\n",
            "[[0. 1. 0. 0.]]\n",
            "expectation: Hy\n"
          ]
        },
        {
          "output_type": "display_data",
          "data": {
            "text/plain": [
              "<Figure size 640x480 with 1 Axes>"
            ],
            "image/png": "[encoded data removed]"
          },
          "metadata": {}
        }
      ]
    }
  ]
}