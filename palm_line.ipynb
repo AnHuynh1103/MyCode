{
  "nbformat": 4,
  "nbformat_minor": 0,
  "metadata": {
    "colab": {
      "provenance": []
    },
    "kernelspec": {
      "name": "python3",
      "display_name": "Python 3"
    },
    "language_info": {
      "name": "python"
    },
    "accelerator": "GPU",
    "gpuClass": "standard"
  },
  "cells": [
    {
      "cell_type": "code",
      "execution_count": null,
      "metadata": {
        "colab": {
          "base_uri": "https://localhost:8080/"
        },
        "id": "QOyQYvb941LJ",
        "outputId": "4f749ab7-443a-4c76-a7dd-d394eee0ebbc"
      },
      "outputs": [
        {
          "output_type": "stream",
          "name": "stdout",
          "text": [
            "Mounted at /content/drive\n"
          ]
        }
      ],
      "source": [
        "#Connect to google drive\n",
        "from google.colab import drive\n",
        "drive.mount('/content/drive')"
      ]
    },
    {
      "cell_type": "code",
      "source": [
        "#import the libraries\n",
        "import pickle\n",
        "import os\n",
        "import cv2 as cv\n",
        "import numpy as np\n",
        "from tqdm import tqdm\n",
        "import matplotlib.pyplot as plt"
      ],
      "metadata": {
        "id": "_erB6KgK49qB"
      },
      "execution_count": null,
      "outputs": []
    },
    {
      "cell_type": "code",
      "source": [
        "#Read data from drive\n",
        "datadir = \"/content/drive/MyDrive/AI_HW/palm_line/data\"\n",
        "categories=['1','2','3','4','5']\n",
        "img_size=100\n",
        "for category in categories:\n",
        "  path=os.path.join(datadir,category)\n",
        "  for img in os.listdir(path):\n",
        "    img_array = cv.imread(os.path.join(path,img),cv.IMREAD_GRAYSCALE)\n",
        "    new_array = cv.resize(img_array,(img_size,img_size))\n",
        "    print(new_array)\n",
        "    plt.imshow(new_array,cmap='gray')\n",
        "    plt.show()\n",
        "    break\n",
        "  break"
      ],
      "metadata": {
        "colab": {
          "base_uri": "https://localhost:8080/",
          "height": 560
        },
        "id": "dW6JCkGC4__N",
        "outputId": "894433b5-653f-4d1b-dcca-fac401d90981"
      },
      "execution_count": null,
      "outputs": [
        {
          "output_type": "stream",
          "name": "stdout",
          "text": [
            "[[255 255 255 ... 255 255 255]\n",
            " [255 255 255 ... 255 255 255]\n",
            " [255 255 255 ... 255 255 255]\n",
            " ...\n",
            " [255 255 255 ... 255 255 255]\n",
            " [255 255 255 ... 255 255 255]\n",
            " [255 255 255 ... 255 255 255]]\n"
          ]
        },
        {
          "output_type": "display_data",
          "data": {
            "text/plain": [
              "<Figure size 640x480 with 1 Axes>"
            ],
            "image/png": "[encoded data removed]"
          },
          "metadata": {}
        }
      ]
    },
    {
      "cell_type": "code",
      "source": [
        "#Create training data:\n",
        "training_data=[]\n",
        "def create_traning_data():\n",
        "  for category in categories:\n",
        "    path = os.path.join(datadir,category)\n",
        "    class_num = categories.index(category)\n",
        "\n",
        "    for img in tqdm(os.listdir(path)):\n",
        "      try:\n",
        "        img_array =cv.imread(os.path.join(path,img),cv.IMREAD_GRAYSCALE)\n",
        "        new_array = cv.resize(img_array,(img_size,img_size))\n",
        "        training_data.append([new_array,class_num])\n",
        "      except Exception as e:\n",
        "        pass\n",
        "create_traning_data()\n",
        "print(len(training_data))"
      ],
      "metadata": {
        "colab": {
          "base_uri": "https://localhost:8080/"
        },
        "id": "nYZb27b95nbV",
        "outputId": "1549f5f4-f2cf-45ac-8b35-e34325bda2ca"
      },
      "execution_count": null,
      "outputs": [
        {
          "output_type": "stream",
          "name": "stderr",
          "text": [
            "100%|██████████| 72/72 [00:18<00:00,  3.90it/s]\n",
            "100%|██████████| 74/74 [00:18<00:00,  4.02it/s]\n",
            "100%|██████████| 75/75 [00:18<00:00,  3.98it/s]\n",
            "100%|██████████| 51/51 [00:11<00:00,  4.26it/s]\n",
            "100%|██████████| 108/108 [00:02<00:00, 39.89it/s]"
          ]
        },
        {
          "output_type": "stream",
          "name": "stdout",
          "text": [
            "365\n"
          ]
        },
        {
          "output_type": "stream",
          "name": "stderr",
          "text": [
            "\n"
          ]
        }
      ]
    },
    {
      "cell_type": "code",
      "source": [
        "#saving (x:features), (y:label)\n",
        "x=[]\n",
        "y=[]\n",
        "for features, label in training_data :\n",
        " x.append(features)\n",
        " y.append(label)\n",
        "x=np.array(x).reshape(-1,img_size,img_size,1)\n",
        "y=np.array(y)\n",
        "print('x',x.shape)\n",
        "print('y',y.shape)"
      ],
      "metadata": {
        "colab": {
          "base_uri": "https://localhost:8080/"
        },
        "id": "eCVozuF85uS_",
        "outputId": "16f38b66-fdf1-477a-e6c8-c0f3f35aae2b"
      },
      "execution_count": null,
      "outputs": [
        {
          "output_type": "stream",
          "name": "stdout",
          "text": [
            "x (365, 100, 100, 1)\n",
            "y (365,)\n"
          ]
        }
      ]
    },
    {
      "cell_type": "code",
      "source": [
        "#saving x, y as file.pickle into drive\n",
        "pickle_out = open(\"/content/drive/MyDrive/AI_HW/palm_line/SAVE/x.pickle\",\"wb\")\n",
        "pickle.dump(x, pickle_out)\n",
        "pickle_out.close()\n",
        "\n",
        "pickle_out = open(\"/content/drive/MyDrive/AI_HW/palm_line/SAVE/y.pickle\",\"wb\")\n",
        "pickle.dump(y, pickle_out)\n",
        "pickle_out.close()"
      ],
      "metadata": {
        "id": "dljrXK-45wZf"
      },
      "execution_count": null,
      "outputs": []
    },
    {
      "cell_type": "code",
      "source": [
        "#BUILD MODEL\n",
        "from keras.models import Sequential\n",
        "from keras.layers import Dense, Dropout, Flatten, Conv2D, MaxPool2D, Normalization, LeakyReLU\n",
        "from keras.optimizers import Adam"
      ],
      "metadata": {
        "id": "qmUbTEjR52to"
      },
      "execution_count": null,
      "outputs": []
    },
    {
      "cell_type": "code",
      "source": [
        "pickle_in = open(\"/content/drive/MyDrive/AI_HW/palm_line/SAVE/x.pickle\",\"rb\")\n",
        "x_train = pickle.load(pickle_in)\n",
        "\n",
        "pickle_in = open(\"/content/drive/MyDrive/AI_HW/palm_line/SAVE/y.pickle\",\"rb\")\n",
        "y_train = pickle.load(pickle_in)"
      ],
      "metadata": {
        "id": "dewp2oHQ55Ha"
      },
      "execution_count": null,
      "outputs": []
    },
    {
      "cell_type": "code",
      "source": [
        "x_train=x_train/255.0\n",
        "print('X train',x_train.shape)"
      ],
      "metadata": {
        "colab": {
          "base_uri": "https://localhost:8080/"
        },
        "id": "jhi4L8EY56xm",
        "outputId": "b5d0aaf8-bc16-40e9-db34-91414885fa6b"
      },
      "execution_count": null,
      "outputs": [
        {
          "output_type": "stream",
          "name": "stdout",
          "text": [
            "X train (365, 100, 100, 1)\n"
          ]
        }
      ]
    },
    {
      "cell_type": "code",
      "source": [
        "from keras.utils import to_categorical #ONE HOT ENCODING\n",
        "y_train= to_categorical(y,5)\n",
        "print('Y train',y_train.shape)"
      ],
      "metadata": {
        "colab": {
          "base_uri": "https://localhost:8080/"
        },
        "id": "itvcbMzi6BWr",
        "outputId": "80410fb9-7b0f-44ba-fd2a-8f0791d39674"
      },
      "execution_count": null,
      "outputs": [
        {
          "output_type": "stream",
          "name": "stdout",
          "text": [
            "Y train (365, 5)\n"
          ]
        }
      ]
    },
    {
      "cell_type": "code",
      "source": [
        "model=Sequential()\n",
        "\n",
        "#layer\n",
        "model.add(Conv2D(32,kernel_size = (3,3), activation = 'relu',\n",
        "                 input_shape = (100,100,1),\n",
        "                 padding = 'same'))\n",
        "model.add(LeakyReLU(alpha = 0.1))\n",
        "model.add(MaxPool2D((2,2),padding = 'same'))\n",
        "model.add(Dropout(0.1))\n",
        "\n",
        "#layer\n",
        "model.add(Conv2D(64,(3,3), activation = 'relu',\n",
        "                 padding = 'same'))\n",
        "model.add(LeakyReLU(alpha = 0.1))\n",
        "model.add(MaxPool2D((2,2),padding = 'same'))\n",
        "model.add(Dropout(0.1))\n",
        "\n",
        "#layer\n",
        "model.add(Conv2D(128,(3,3), activation = 'relu',\n",
        "                 padding = 'same'))\n",
        "model.add(LeakyReLU(alpha = 0.1))\n",
        "model.add(MaxPool2D((2,2),padding = 'same'))\n",
        "model.add(Dropout(0.1))\n",
        "\n",
        "#ANN\n",
        "model.add(Flatten())\n",
        "model.add(Dense(128, activation = 'relu'))\n",
        "model.add(LeakyReLU(alpha = 0.1))\n",
        "model.add(Dense(5, activation = 'softmax'))\n",
        "\n",
        "from keras.losses import categorical_crossentropy\n",
        "model.compile(loss = 'categorical_crossentropy', optimizer = Adam(),\n",
        "              metrics = ['accuracy'])\n",
        "model.summary()\n",
        "history = model.fit(x_train, y_train, batch_size = 64, epochs = 60, verbose = 1)"
      ],
      "metadata": {
        "colab": {
          "base_uri": "https://localhost:8080/"
        },
        "id": "f0DD6AEr6Dky",
        "outputId": "58269bd4-2aa6-4e66-b1ab-d73d4c347085"
      },
      "execution_count": null,
      "outputs": [
        {
          "output_type": "stream",
          "name": "stdout",
          "text": [
            "Model: \"sequential\"\n",
            "_________________________________________________________________\n",
            " Layer (type)                Output Shape              Param #   \n",
            "=================================================================\n",
            " conv2d (Conv2D)             (None, 100, 100, 32)      320       \n",
            "                                                                 \n",
            " leaky_re_lu (LeakyReLU)     (None, 100, 100, 32)      0         \n",
            "                                                                 \n",
            " max_pooling2d (MaxPooling2D  (None, 50, 50, 32)       0         \n",
            " )                                                               \n",
            "                                                                 \n",
            " dropout (Dropout)           (None, 50, 50, 32)        0         \n",
            "                                                                 \n",
            " conv2d_1 (Conv2D)           (None, 50, 50, 64)        18496     \n",
            "                                                                 \n",
            " leaky_re_lu_1 (LeakyReLU)   (None, 50, 50, 64)        0         \n",
            "                                                                 \n",
            " max_pooling2d_1 (MaxPooling  (None, 25, 25, 64)       0         \n",
            " 2D)                                                             \n",
            "                                                                 \n",
            " dropout_1 (Dropout)         (None, 25, 25, 64)        0         \n",
            "                                                                 \n",
            " conv2d_2 (Conv2D)           (None, 25, 25, 128)       73856     \n",
            "                                                                 \n",
            " leaky_re_lu_2 (LeakyReLU)   (None, 25, 25, 128)       0         \n",
            "                                                                 \n",
            " max_pooling2d_2 (MaxPooling  (None, 13, 13, 128)      0         \n",
            " 2D)                                                             \n",
            "                                                                 \n",
            " dropout_2 (Dropout)         (None, 13, 13, 128)       0         \n",
            "                                                                 \n",
            " flatten (Flatten)           (None, 21632)             0         \n",
            "                                                                 \n",
            " dense (Dense)               (None, 128)               2769024   \n",
            "                                                                 \n",
            " leaky_re_lu_3 (LeakyReLU)   (None, 128)               0         \n",
            "                                                                 \n",
            " dense_1 (Dense)             (None, 5)                 645       \n",
            "                                                                 \n",
            "=================================================================\n",
            "Total params: 2,862,341\n",
            "Trainable params: 2,862,341\n",
            "Non-trainable params: 0\n",
            "_________________________________________________________________\n",
            "Epoch 1/60\n",
            "6/6 [==============================] - 11s 96ms/step - loss: 2.1922 - accuracy: 0.1808\n",
            "Epoch 2/60\n",
            "6/6 [==============================] - 0s 30ms/step - loss: 1.6143 - accuracy: 0.2082\n",
            "Epoch 3/60\n",
            "6/6 [==============================] - 0s 30ms/step - loss: 1.5903 - accuracy: 0.3397\n",
            "Epoch 4/60\n",
            "6/6 [==============================] - 0s 30ms/step - loss: 1.5659 - accuracy: 0.3425\n",
            "Epoch 5/60\n",
            "6/6 [==============================] - 0s 30ms/step - loss: 1.5164 - accuracy: 0.3562\n",
            "Epoch 6/60\n",
            "6/6 [==============================] - 0s 30ms/step - loss: 1.4742 - accuracy: 0.3562\n",
            "Epoch 7/60\n",
            "6/6 [==============================] - 0s 30ms/step - loss: 1.4567 - accuracy: 0.3753\n",
            "Epoch 8/60\n",
            "6/6 [==============================] - 0s 29ms/step - loss: 1.3435 - accuracy: 0.4575\n",
            "Epoch 9/60\n",
            "6/6 [==============================] - 0s 29ms/step - loss: 1.2789 - accuracy: 0.4685\n",
            "Epoch 10/60\n",
            "6/6 [==============================] - 0s 30ms/step - loss: 1.1554 - accuracy: 0.5041\n",
            "Epoch 11/60\n",
            "6/6 [==============================] - 0s 31ms/step - loss: 1.0266 - accuracy: 0.5370\n",
            "Epoch 12/60\n",
            "6/6 [==============================] - 0s 29ms/step - loss: 0.9100 - accuracy: 0.6411\n",
            "Epoch 13/60\n",
            "6/6 [==============================] - 0s 30ms/step - loss: 0.7376 - accuracy: 0.7534\n",
            "Epoch 14/60\n",
            "6/6 [==============================] - 0s 30ms/step - loss: 0.6737 - accuracy: 0.7260\n",
            "Epoch 15/60\n",
            "6/6 [==============================] - 0s 30ms/step - loss: 0.7344 - accuracy: 0.6932\n",
            "Epoch 16/60\n",
            "6/6 [==============================] - 0s 30ms/step - loss: 0.6610 - accuracy: 0.7589\n",
            "Epoch 17/60\n",
            "6/6 [==============================] - 0s 30ms/step - loss: 0.5616 - accuracy: 0.7781\n",
            "Epoch 18/60\n",
            "6/6 [==============================] - 0s 30ms/step - loss: 0.4225 - accuracy: 0.8301\n",
            "Epoch 19/60\n",
            "6/6 [==============================] - 0s 30ms/step - loss: 0.4095 - accuracy: 0.8384\n",
            "Epoch 20/60\n",
            "6/6 [==============================] - 0s 30ms/step - loss: 0.3469 - accuracy: 0.8822\n",
            "Epoch 21/60\n",
            "6/6 [==============================] - 0s 30ms/step - loss: 0.2827 - accuracy: 0.9123\n",
            "Epoch 22/60\n",
            "6/6 [==============================] - 0s 30ms/step - loss: 0.2105 - accuracy: 0.9288\n",
            "Epoch 23/60\n",
            "6/6 [==============================] - 0s 29ms/step - loss: 0.1823 - accuracy: 0.9342\n",
            "Epoch 24/60\n",
            "6/6 [==============================] - 0s 30ms/step - loss: 0.1773 - accuracy: 0.9370\n",
            "Epoch 25/60\n",
            "6/6 [==============================] - 0s 30ms/step - loss: 0.1310 - accuracy: 0.9699\n",
            "Epoch 26/60\n",
            "6/6 [==============================] - 0s 30ms/step - loss: 0.1154 - accuracy: 0.9589\n",
            "Epoch 27/60\n",
            "6/6 [==============================] - 0s 29ms/step - loss: 0.0967 - accuracy: 0.9781\n",
            "Epoch 28/60\n",
            "6/6 [==============================] - 0s 30ms/step - loss: 0.0747 - accuracy: 0.9863\n",
            "Epoch 29/60\n",
            "6/6 [==============================] - 0s 30ms/step - loss: 0.0727 - accuracy: 0.9753\n",
            "Epoch 30/60\n",
            "6/6 [==============================] - 0s 29ms/step - loss: 0.0450 - accuracy: 0.9890\n",
            "Epoch 31/60\n",
            "6/6 [==============================] - 0s 29ms/step - loss: 0.0364 - accuracy: 0.9945\n",
            "Epoch 32/60\n",
            "6/6 [==============================] - 0s 30ms/step - loss: 0.0230 - accuracy: 0.9973\n",
            "Epoch 33/60\n",
            "6/6 [==============================] - 0s 31ms/step - loss: 0.0232 - accuracy: 0.9973\n",
            "Epoch 34/60\n",
            "6/6 [==============================] - 0s 31ms/step - loss: 0.0198 - accuracy: 1.0000\n",
            "Epoch 35/60\n",
            "6/6 [==============================] - 0s 30ms/step - loss: 0.0174 - accuracy: 0.9973\n",
            "Epoch 36/60\n",
            "6/6 [==============================] - 0s 32ms/step - loss: 0.0134 - accuracy: 1.0000\n",
            "Epoch 37/60\n",
            "6/6 [==============================] - 0s 31ms/step - loss: 0.0090 - accuracy: 1.0000\n",
            "Epoch 38/60\n",
            "6/6 [==============================] - 0s 33ms/step - loss: 0.0072 - accuracy: 1.0000\n",
            "Epoch 39/60\n",
            "6/6 [==============================] - 0s 32ms/step - loss: 0.0050 - accuracy: 1.0000\n",
            "Epoch 40/60\n",
            "6/6 [==============================] - 0s 34ms/step - loss: 0.0043 - accuracy: 1.0000\n",
            "Epoch 41/60\n",
            "6/6 [==============================] - 0s 31ms/step - loss: 0.0035 - accuracy: 1.0000\n",
            "Epoch 42/60\n",
            "6/6 [==============================] - 0s 31ms/step - loss: 0.0028 - accuracy: 1.0000\n",
            "Epoch 43/60\n",
            "6/6 [==============================] - 0s 33ms/step - loss: 0.0029 - accuracy: 1.0000\n",
            "Epoch 44/60\n",
            "6/6 [==============================] - 0s 32ms/step - loss: 0.0019 - accuracy: 1.0000\n",
            "Epoch 45/60\n",
            "6/6 [==============================] - 0s 31ms/step - loss: 0.0021 - accuracy: 1.0000\n",
            "Epoch 46/60\n",
            "6/6 [==============================] - 0s 32ms/step - loss: 0.0016 - accuracy: 1.0000\n",
            "Epoch 47/60\n",
            "6/6 [==============================] - 0s 32ms/step - loss: 0.0018 - accuracy: 1.0000\n",
            "Epoch 48/60\n",
            "6/6 [==============================] - 0s 31ms/step - loss: 0.0011 - accuracy: 1.0000\n",
            "Epoch 49/60\n",
            "6/6 [==============================] - 0s 31ms/step - loss: 0.0012 - accuracy: 1.0000\n",
            "Epoch 50/60\n",
            "6/6 [==============================] - 0s 31ms/step - loss: 0.0013 - accuracy: 1.0000\n",
            "Epoch 51/60\n",
            "6/6 [==============================] - 0s 31ms/step - loss: 0.0011 - accuracy: 1.0000\n",
            "Epoch 52/60\n",
            "6/6 [==============================] - 0s 31ms/step - loss: 6.2201e-04 - accuracy: 1.0000\n",
            "Epoch 53/60\n",
            "6/6 [==============================] - 0s 30ms/step - loss: 0.0011 - accuracy: 1.0000\n",
            "Epoch 54/60\n",
            "6/6 [==============================] - 0s 29ms/step - loss: 0.0012 - accuracy: 1.0000\n",
            "Epoch 55/60\n",
            "6/6 [==============================] - 0s 30ms/step - loss: 0.0015 - accuracy: 1.0000\n",
            "Epoch 56/60\n",
            "6/6 [==============================] - 0s 30ms/step - loss: 0.0011 - accuracy: 1.0000\n",
            "Epoch 57/60\n",
            "6/6 [==============================] - 0s 30ms/step - loss: 0.0011 - accuracy: 1.0000\n",
            "Epoch 58/60\n",
            "6/6 [==============================] - 0s 30ms/step - loss: 8.1735e-04 - accuracy: 1.0000\n",
            "Epoch 59/60\n",
            "6/6 [==============================] - 0s 30ms/step - loss: 6.8944e-04 - accuracy: 1.0000\n",
            "Epoch 60/60\n",
            "6/6 [==============================] - 0s 29ms/step - loss: 5.9767e-04 - accuracy: 1.0000\n"
          ]
        }
      ]
    },
    {
      "cell_type": "code",
      "source": [
        "plt.plot(history.history['accuracy'])\n",
        "plt.title('Model accuracy')\n",
        "plt.ylabel('accuracy')\n",
        "plt.xlabel('epoch')\n",
        "plt.show()"
      ],
      "metadata": {
        "colab": {
          "base_uri": "https://localhost:8080/",
          "height": 472
        },
        "id": "AsrzsmCF6OK9",
        "outputId": "6cb46f44-4d58-4232-94f4-01aa9171d940"
      },
      "execution_count": null,
      "outputs": [
        {
          "output_type": "display_data",
          "data": {
            "text/plain": [
              "<Figure size 640x480 with 1 Axes>"
            ],
            "image/png": "[encoded data removed]"
          },
          "metadata": {}
        }
      ]
    },
    {
      "cell_type": "code",
      "source": [
        "model.save('palm_line.h5')"
      ],
      "metadata": {
        "id": "lB2Wi58E6Qm2"
      },
      "execution_count": null,
      "outputs": []
    },
    {
      "cell_type": "code",
      "source": [
        "from keras.models import load_model\n",
        "from keras.utils import load_img,img_to_array\n",
        "from skimage import color\n",
        "from skimage import io"
      ],
      "metadata": {
        "id": "yosD3h_t6U7Y"
      },
      "execution_count": null,
      "outputs": []
    },
    {
      "cell_type": "code",
      "source": [
        "model_palmline = load_model('/content/drive/MyDrive/AI_HW/palm_line/SAVE/palm_line.h5')"
      ],
      "metadata": {
        "id": "DHIXhu1y6Y2A"
      },
      "execution_count": null,
      "outputs": []
    },
    {
      "cell_type": "code",
      "source": [
        "# load and prepare the image\n",
        "def load_image(filename):\n",
        "    # load the image\n",
        "    img = load_img(filename, target_size=(100, 100))\n",
        "    return img\n",
        "\n",
        "labels = {0:'Future 1',\n",
        "          1:'Future 2',\n",
        "          2:'Future 3',\n",
        "          3:'Future 4',\n",
        "          4:'Future 5'}"
      ],
      "metadata": {
        "id": "vNvNBCvF6ivR"
      },
      "execution_count": null,
      "outputs": []
    },
    {
      "cell_type": "code",
      "source": [
        "#load img and test:\n",
        "img = load_image('/content/drive/MyDrive/AI_HW/test_all/handpalm/hand7.jpg')\n",
        "plt.imshow(img)\n",
        "img = img_to_array(img)\n",
        "img = cv.cvtColor(img,cv.COLOR_BGR2GRAY)\n",
        "img = img.reshape(1,100,100,1)\n",
        "result = model_palmline.predict(img)\n",
        "print(result)\n",
        "np.argmax(result)\n",
        "print('expectation:',labels[np.argmax(result)])"
      ],
      "metadata": {
        "colab": {
          "base_uri": "https://localhost:8080/",
          "height": 487
        },
        "id": "RuEEAjcG6yw1",
        "outputId": "6d647c3b-143a-4bcf-bb72-2cc0943faff8"
      },
      "execution_count": null,
      "outputs": [
        {
          "output_type": "stream",
          "name": "stdout",
          "text": [
            "1/1 [==============================] - 0s 19ms/step\n",
            "[[0. 0. 0. 0. 1.]]\n",
            "expectation: Future 5\n"
          ]
        },
        {
          "output_type": "display_data",
          "data": {
            "text/plain": [
              "<Figure size 640x480 with 1 Axes>"
            ],
            "image/png": "[encoded data removed]"
          },
          "metadata": {}
        }
      ]
    }
  ]
}