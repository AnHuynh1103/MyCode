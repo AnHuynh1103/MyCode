{
  "nbformat": 4,
  "nbformat_minor": 0,
  "metadata": {
    "colab": {
      "provenance": []
    },
    "kernelspec": {
      "name": "python3",
      "display_name": "Python 3"
    },
    "language_info": {
      "name": "python"
    }
  },
  "cells": [
    {
      "cell_type": "code",
      "execution_count": 1,
      "metadata": {
        "id": "6Y9kIRFCgyLH"
      },
      "outputs": [],
      "source": [
        " from keras.datasets import mnist"
      ]
    },
    {
      "cell_type": "code",
      "source": [
        "(train_images,train_labels),(test_images,test_labels) = mnist.load_data()"
      ],
      "metadata": {
        "colab": {
          "base_uri": "https://localhost:8080/"
        },
        "id": "Ui8c2Exqo9WA",
        "outputId": "1ed0a629-de3d-455c-fb89-954af7e95083"
      },
      "execution_count": 2,
      "outputs": [
        {
          "output_type": "stream",
          "name": "stdout",
          "text": [
            "Downloading data from https://storage.googleapis.com/tensorflow/tf-keras-datasets/mnist.npz\n",
            "11490434/11490434 [==============================] - 0s 0us/step\n"
          ]
        }
      ]
    },
    {
      "cell_type": "code",
      "source": [
        "train_images.shape"
      ],
      "metadata": {
        "colab": {
          "base_uri": "https://localhost:8080/"
        },
        "id": "vWep4jzMpjjH",
        "outputId": "1966ea9d-ffe5-4791-ee7c-c1fd12fba1db"
      },
      "execution_count": 3,
      "outputs": [
        {
          "output_type": "execute_result",
          "data": {
            "text/plain": [
              "(60000, 28, 28)"
            ]
          },
          "metadata": {},
          "execution_count": 3
        }
      ]
    },
    {
      "cell_type": "code",
      "source": [
        "train_labels.shape"
      ],
      "metadata": {
        "colab": {
          "base_uri": "https://localhost:8080/"
        },
        "id": "AxdGVZCnpq9M",
        "outputId": "41b6d1fe-77be-49e1-967e-48097e0fcbf5"
      },
      "execution_count": 4,
      "outputs": [
        {
          "output_type": "execute_result",
          "data": {
            "text/plain": [
              "(60000,)"
            ]
          },
          "metadata": {},
          "execution_count": 4
        }
      ]
    },
    {
      "cell_type": "code",
      "source": [
        "test_images.shape"
      ],
      "metadata": {
        "colab": {
          "base_uri": "https://localhost:8080/"
        },
        "id": "4Fc-irhkptYQ",
        "outputId": "07662643-801b-4d2c-e160-ffb263471b29"
      },
      "execution_count": 5,
      "outputs": [
        {
          "output_type": "execute_result",
          "data": {
            "text/plain": [
              "(10000, 28, 28)"
            ]
          },
          "metadata": {},
          "execution_count": 5
        }
      ]
    },
    {
      "cell_type": "code",
      "source": [
        "test_labels.shape"
      ],
      "metadata": {
        "colab": {
          "base_uri": "https://localhost:8080/"
        },
        "id": "F2Nh7rf0pw5O",
        "outputId": "99b57f3c-897e-4417-a134-d48984f71f34"
      },
      "execution_count": 6,
      "outputs": [
        {
          "output_type": "execute_result",
          "data": {
            "text/plain": [
              "(10000,)"
            ]
          },
          "metadata": {},
          "execution_count": 6
        }
      ]
    },
    {
      "cell_type": "code",
      "source": [
        "import matplotlib.pyplot as plt"
      ],
      "metadata": {
        "id": "2Aqk6xoSq3dg"
      },
      "execution_count": 7,
      "outputs": []
    },
    {
      "cell_type": "code",
      "source": [
        "hinh = train_images[15460]\n",
        "plt.imshow(hinh,cmap=plt.cm.binary)\n",
        "plt.show\n",
        "print('So nay la: ',train_labels[15460])"
      ],
      "metadata": {
        "colab": {
          "base_uri": "https://localhost:8080/",
          "height": 448
        },
        "id": "DgzdzvYYqIaP",
        "outputId": "f425f0e6-af52-45d0-c442-76a3694efc3a"
      },
      "execution_count": 8,
      "outputs": [
        {
          "output_type": "stream",
          "name": "stdout",
          "text": [
            "So nay la:  7\n"
          ]
        },
        {
          "output_type": "display_data",
          "data": {
            "text/plain": [
              "<Figure size 640x480 with 1 Axes>"
            ],
            "image/png": "[encoded data removed]"
          },
          "metadata": {}
        }
      ]
    },
    {
      "cell_type": "code",
      "source": [
        "for i in range(15):\n",
        "  plt.subplot(3,5,i+1)\n",
        "  plt.tight_layout()\n",
        "  plt.imshow(train_images[i],cmap = 'gray',\n",
        "             interpolation = 'none')\n",
        "  plt.title('So : {}'.format(train_labels[i]))\n",
        "  plt.xticks([])\n",
        "  plt.yticks([])\n"
      ],
      "metadata": {
        "colab": {
          "base_uri": "https://localhost:8080/",
          "height": 481
        },
        "id": "rTTvTgcmrRlM",
        "outputId": "2ad81300-9b5a-4e1b-b9b7-9dcaa06e317b"
      },
      "execution_count": 9,
      "outputs": [
        {
          "output_type": "stream",
          "name": "stderr",
          "text": [
            "<ipython-input-9-83bf64c86aa0>:2: MatplotlibDeprecationWarning: Auto-removal of overlapping axes is deprecated since 3.6 and will be removed two minor releases later; explicitly call ax.remove() as needed.\n",
            "  plt.subplot(3,5,i+1)\n"
          ]
        },
        {
          "output_type": "display_data",
          "data": {
            "text/plain": [
              "<Figure size 640x480 with 14 Axes>"
            ],
            "image/png": "[encoded data removed]"
          },
          "metadata": {}
        }
      ]
    },
    {
      "cell_type": "code",
      "source": [
        "from keras import models\n",
        "from keras.layers import Dense"
      ],
      "metadata": {
        "id": "F2xXWaW9sYdS"
      },
      "execution_count": 10,
      "outputs": []
    },
    {
      "cell_type": "code",
      "source": [
        "from keras.models import Sequential"
      ],
      "metadata": {
        "id": "QzuwTm7MtpC6"
      },
      "execution_count": 11,
      "outputs": []
    },
    {
      "cell_type": "code",
      "source": [
        "model = Sequential()"
      ],
      "metadata": {
        "id": "pI1Fq3LutwG2"
      },
      "execution_count": 12,
      "outputs": []
    },
    {
      "cell_type": "code",
      "source": [
        "from keras.layers.serialization import activation\n",
        "model.add(Dense(512,activation = 'relu',input_shape = (28*28,)))\n",
        "model.add(Dense(10,activation = 'softmax'))\n",
        "model.summary()"
      ],
      "metadata": {
        "colab": {
          "base_uri": "https://localhost:8080/"
        },
        "id": "E7Kaza2vwbbn",
        "outputId": "0fcb907f-030d-4fbd-cdf3-4b80f2437db3"
      },
      "execution_count": 425,
      "outputs": [
        {
          "output_type": "stream",
          "name": "stdout",
          "text": [
            "Model: \"sequential\"\n",
            "_________________________________________________________________\n",
            " Layer (type)                Output Shape              Param #   \n",
            "=================================================================\n",
            " dense (Dense)               (None, 512)               401920    \n",
            "                                                                 \n",
            " dense_1 (Dense)             (None, 10)                5130      \n",
            "                                                                 \n",
            " dense_2 (Dense)             (None, 512)               5632      \n",
            "                                                                 \n",
            " dense_3 (Dense)             (None, 10)                5130      \n",
            "                                                                 \n",
            "=================================================================\n",
            "Total params: 417,812\n",
            "Trainable params: 417,812\n",
            "Non-trainable params: 0\n",
            "_________________________________________________________________\n"
          ]
        }
      ]
    },
    {
      "cell_type": "code",
      "source": [
        "train_images = train_images.reshape((60000,28*28))\n",
        "train_images = train_images.astype('float32')/255"
      ],
      "metadata": {
        "id": "vX2EgWEVyeYv"
      },
      "execution_count": 14,
      "outputs": []
    },
    {
      "cell_type": "code",
      "source": [
        "test_images = test_images.reshape((10000,28*28))\n",
        "test_images = test_images.astype('float32')/255"
      ],
      "metadata": {
        "id": "nz0i6NnszLi3"
      },
      "execution_count": 15,
      "outputs": []
    },
    {
      "cell_type": "code",
      "source": [
        "train_images.shape"
      ],
      "metadata": {
        "colab": {
          "base_uri": "https://localhost:8080/"
        },
        "id": "qBbQhHEg7OqC",
        "outputId": "36867eaa-6d19-4150-f79f-c5eeed0e57b6"
      },
      "execution_count": 16,
      "outputs": [
        {
          "output_type": "execute_result",
          "data": {
            "text/plain": [
              "(60000, 784)"
            ]
          },
          "metadata": {},
          "execution_count": 16
        }
      ]
    },
    {
      "cell_type": "code",
      "source": [
        "test_images.shape"
      ],
      "metadata": {
        "colab": {
          "base_uri": "https://localhost:8080/"
        },
        "id": "JGZRE0GH7O5n",
        "outputId": "07d1ffd4-2b19-4fe9-9524-31ecc68279c5"
      },
      "execution_count": 17,
      "outputs": [
        {
          "output_type": "execute_result",
          "data": {
            "text/plain": [
              "(10000, 784)"
            ]
          },
          "metadata": {},
          "execution_count": 17
        }
      ]
    },
    {
      "cell_type": "code",
      "source": [
        "from keras.utils import to_categorical #ONE HOT ENCODING"
      ],
      "metadata": {
        "id": "85plkGFZztL2"
      },
      "execution_count": 18,
      "outputs": []
    },
    {
      "cell_type": "code",
      "source": [
        "train_labels = to_categorical(train_labels,10)"
      ],
      "metadata": {
        "id": "Kt49ltbXz8SZ"
      },
      "execution_count": 19,
      "outputs": []
    },
    {
      "cell_type": "code",
      "source": [
        "test_labels = to_categorical(test_labels,10)"
      ],
      "metadata": {
        "id": "5uCumSnL0Puz"
      },
      "execution_count": 20,
      "outputs": []
    },
    {
      "cell_type": "code",
      "source": [
        "model.compile(optimizer = 'rmsprop',loss = 'categorical_crossentropy',\n",
        "              metrics=['accuracy'])"
      ],
      "metadata": {
        "id": "Qgl0V7fr0XK5"
      },
      "execution_count": 21,
      "outputs": []
    },
    {
      "cell_type": "code",
      "source": [
        "model.fit(train_images,train_labels,epochs = 10, batch_size = 128)"
      ],
      "metadata": {
        "colab": {
          "base_uri": "https://localhost:8080/"
        },
        "id": "cVWXPEr_1zpm",
        "outputId": "ae81701a-207c-4863-8b92-50d7e2db195a"
      },
      "execution_count": 323,
      "outputs": [
        {
          "output_type": "stream",
          "name": "stdout",
          "text": [
            "Epoch 1/10\n",
            "469/469 [==============================] - 6s 12ms/step - loss: 2.9030e-04 - accuracy: 1.0000\n",
            "Epoch 2/10\n",
            "469/469 [==============================] - 4s 10ms/step - loss: 2.5824e-04 - accuracy: 1.0000\n",
            "Epoch 3/10\n",
            "469/469 [==============================] - 5s 12ms/step - loss: 2.3329e-04 - accuracy: 1.0000\n",
            "Epoch 4/10\n",
            "469/469 [==============================] - 5s 10ms/step - loss: 2.1867e-04 - accuracy: 1.0000\n",
            "Epoch 5/10\n",
            "469/469 [==============================] - 5s 10ms/step - loss: 2.0142e-04 - accuracy: 1.0000\n",
            "Epoch 6/10\n",
            "469/469 [==============================] - 6s 12ms/step - loss: 1.8615e-04 - accuracy: 1.0000\n",
            "Epoch 7/10\n",
            "469/469 [==============================] - 4s 10ms/step - loss: 1.7419e-04 - accuracy: 1.0000\n",
            "Epoch 8/10\n",
            "469/469 [==============================] - 5s 10ms/step - loss: 1.6301e-04 - accuracy: 1.0000\n",
            "Epoch 9/10\n",
            "469/469 [==============================] - 5s 12ms/step - loss: 1.5459e-04 - accuracy: 1.0000\n",
            "Epoch 10/10\n",
            "469/469 [==============================] - 4s 9ms/step - loss: 1.4620e-04 - accuracy: 1.0000\n"
          ]
        },
        {
          "output_type": "execute_result",
          "data": {
            "text/plain": [
              "<keras.callbacks.History at 0x7f6d9a763040>"
            ]
          },
          "metadata": {},
          "execution_count": 323
        }
      ]
    },
    {
      "cell_type": "code",
      "source": [
        "test_loss,test_acc = model.evaluate(test_images,test_labels)"
      ],
      "metadata": {
        "colab": {
          "base_uri": "https://localhost:8080/"
        },
        "id": "l_TQB55t186c",
        "outputId": "3215e315-1f35-4bd3-e581-39642078a057"
      },
      "execution_count": 324,
      "outputs": [
        {
          "output_type": "stream",
          "name": "stdout",
          "text": [
            "313/313 [==============================] - 1s 3ms/step - loss: 0.0668 - accuracy: 0.9846\n"
          ]
        }
      ]
    },
    {
      "cell_type": "code",
      "source": [
        "print('Do chinh xac tren tap kiem tra: ',test_acc)\n",
        "print('Ham mat mat tren tap kiem tra: ',test_loss)"
      ],
      "metadata": {
        "colab": {
          "base_uri": "https://localhost:8080/"
        },
        "id": "HYxRcQLo2wtE",
        "outputId": "23718652-4f29-433e-ff52-0ef533f930de"
      },
      "execution_count": 325,
      "outputs": [
        {
          "output_type": "stream",
          "name": "stdout",
          "text": [
            "Do chinh xac tren tap kiem tra:  0.9846000075340271\n",
            "Ham mat mat tren tap kiem tra:  0.066816546022892\n"
          ]
        }
      ]
    },
    {
      "cell_type": "code",
      "source": [
        "model.save('model_mnist_1.h5')"
      ],
      "metadata": {
        "id": "pJK4PYpq3ITP"
      },
      "execution_count": 326,
      "outputs": []
    },
    {
      "cell_type": "code",
      "source": [
        "from keras.saving.legacy.save import load_model\n",
        "model11 = load_model('model_mnist_1.h5')"
      ],
      "metadata": {
        "id": "SA-1SjBu7w8O"
      },
      "execution_count": 327,
      "outputs": []
    },
    {
      "cell_type": "code",
      "source": [
        "from keras.utils import load_img\n",
        "import cv2 as cv\n",
        "import numpy as np"
      ],
      "metadata": {
        "id": "o65optWxxSQI"
      },
      "execution_count": 328,
      "outputs": []
    },
    {
      "cell_type": "code",
      "source": [
        "model11.predict(test_images)"
      ],
      "metadata": {
        "colab": {
          "base_uri": "https://localhost:8080/"
        },
        "id": "lpzoj4g68I1Q",
        "outputId": "54ab196e-b465-4238-bf2c-7c83006d941e"
      },
      "execution_count": 329,
      "outputs": [
        {
          "output_type": "stream",
          "name": "stdout",
          "text": [
            "313/313 [==============================] - 1s 2ms/step\n"
          ]
        },
        {
          "output_type": "execute_result",
          "data": {
            "text/plain": [
              "array([[3.4363576e-13, 4.2791639e-16, 1.3893480e-11, ..., 9.9999994e-01,\n",
              "        6.2453372e-14, 2.4380203e-10],\n",
              "       [2.0045873e-15, 4.1173194e-09, 9.9999994e-01, ..., 4.6119175e-24,\n",
              "        3.3180447e-10, 2.4016948e-23],\n",
              "       [5.0408525e-11, 9.9999851e-01, 2.9786935e-07, ..., 2.3208221e-07,\n",
              "        8.5946658e-07, 2.6060066e-12],\n",
              "       ...,\n",
              "       [1.0990817e-22, 2.0964944e-19, 2.2583619e-23, ..., 4.1956397e-11,\n",
              "        1.3940669e-12, 7.3752442e-11],\n",
              "       [2.3904284e-12, 1.4914435e-17, 2.2453721e-16, ..., 5.8087371e-14,\n",
              "        3.3896279e-07, 2.3256340e-17],\n",
              "       [4.0707493e-16, 3.0037180e-20, 4.8316797e-17, ..., 3.2713017e-23,\n",
              "        1.0566763e-18, 5.5865420e-21]], dtype=float32)"
            ]
          },
          "metadata": {},
          "execution_count": 329
        }
      ]
    },
    {
      "cell_type": "code",
      "source": [
        "from skimage import color\n",
        "from skimage import io\n",
        "from keras.utils import img_to_array"
      ],
      "metadata": {
        "id": "vAwu_3AG5gnI"
      },
      "execution_count": 330,
      "outputs": []
    },
    {
      "cell_type": "code",
      "source": [
        "file = 'test_3.jpg'\n",
        "test_img = cv.imread(file,cv.IMREAD_GRAYSCALE)"
      ],
      "metadata": {
        "id": "mviuuIFTFN5P"
      },
      "execution_count": 653,
      "outputs": []
    },
    {
      "cell_type": "code",
      "source": [
        "plt.imshow(test_img,cmap='gray')"
      ],
      "metadata": {
        "colab": {
          "base_uri": "https://localhost:8080/",
          "height": 448
        },
        "id": "nFKDw6FlGCOX",
        "outputId": "95c9b9a5-cf9e-417a-e68f-537634258b1e"
      },
      "execution_count": 654,
      "outputs": [
        {
          "output_type": "execute_result",
          "data": {
            "text/plain": [
              "<matplotlib.image.AxesImage at 0x7f6d98c18d30>"
            ]
          },
          "metadata": {},
          "execution_count": 654
        },
        {
          "output_type": "display_data",
          "data": {
            "text/plain": [
              "<Figure size 640x480 with 1 Axes>"
            ],
            "image/png": "[encoded data removed]"
          },
          "metadata": {}
        }
      ]
    },
    {
      "cell_type": "code",
      "source": [
        "#img = load_img(file,target_size = (28,28))"
      ],
      "metadata": {
        "id": "fXInxRyr5il_"
      },
      "execution_count": 655,
      "outputs": []
    },
    {
      "cell_type": "code",
      "source": [
        "img = cv.resize(test_img, (28,28),interpolation=cv.INTER_LINEAR)\n",
        "img = cv.bitwise_not(img)"
      ],
      "metadata": {
        "id": "WpiEZvA3-oAo"
      },
      "execution_count": 656,
      "outputs": []
    },
    {
      "cell_type": "code",
      "source": [
        "plt.imshow(img,cmap='gray')"
      ],
      "metadata": {
        "id": "xuMVlRQVUva3",
        "outputId": "c0ff1120-0f32-47b3-c085-aa1af9578b08",
        "colab": {
          "base_uri": "https://localhost:8080/",
          "height": 448
        }
      },
      "execution_count": 657,
      "outputs": [
        {
          "output_type": "execute_result",
          "data": {
            "text/plain": [
              "<matplotlib.image.AxesImage at 0x7f6d98b6ddc0>"
            ]
          },
          "metadata": {},
          "execution_count": 657
        },
        {
          "output_type": "display_data",
          "data": {
            "text/plain": [
              "<Figure size 640x480 with 1 Axes>"
            ],
            "image/png": "[encoded data removed]"
          },
          "metadata": {}
        }
      ]
    },
    {
      "cell_type": "code",
      "source": [
        "from keras.utils.image_utils import img_to_array"
      ],
      "metadata": {
        "id": "mGxhsgPL_KHt"
      },
      "execution_count": 658,
      "outputs": []
    },
    {
      "cell_type": "code",
      "source": [
        "img = img_to_array(img)"
      ],
      "metadata": {
        "id": "-zhFChpMCNTT"
      },
      "execution_count": 659,
      "outputs": []
    },
    {
      "cell_type": "code",
      "source": [
        "img.size"
      ],
      "metadata": {
        "colab": {
          "base_uri": "https://localhost:8080/"
        },
        "id": "gBszGr0g4Eg9",
        "outputId": "b5f60049-d791-4b50-83b2-79c36afe69c1"
      },
      "execution_count": 660,
      "outputs": [
        {
          "output_type": "execute_result",
          "data": {
            "text/plain": [
              "784"
            ]
          },
          "metadata": {},
          "execution_count": 660
        }
      ]
    },
    {
      "cell_type": "code",
      "source": [
        "img = img.reshape(1,28*28)"
      ],
      "metadata": {
        "id": "dYtxdKUVBQ0x"
      },
      "execution_count": 661,
      "outputs": []
    },
    {
      "cell_type": "code",
      "source": [
        "#img = img.reshape(3,28*28)"
      ],
      "metadata": {
        "id": "kgpCy60v9AQJ"
      },
      "execution_count": 662,
      "outputs": []
    },
    {
      "cell_type": "code",
      "source": [
        "img = img.astype('float32')"
      ],
      "metadata": {
        "id": "pkI0wNMkFPvi"
      },
      "execution_count": 663,
      "outputs": []
    },
    {
      "cell_type": "code",
      "source": [
        "img = img/255"
      ],
      "metadata": {
        "id": "mOvWn7BiFe5C"
      },
      "execution_count": 664,
      "outputs": []
    },
    {
      "cell_type": "code",
      "source": [
        "np.argmax(model11.predict(img),axis = 1)"
      ],
      "metadata": {
        "colab": {
          "base_uri": "https://localhost:8080/"
        },
        "id": "ZsOpzEbZFhDl",
        "outputId": "6c4aa5d8-7b86-4365-9055-72c3ddaa7696"
      },
      "execution_count": 665,
      "outputs": [
        {
          "output_type": "stream",
          "name": "stdout",
          "text": [
            "1/1 [==============================] - 0s 22ms/step\n"
          ]
        },
        {
          "output_type": "execute_result",
          "data": {
            "text/plain": [
              "array([5])"
            ]
          },
          "metadata": {},
          "execution_count": 665
        }
      ]
    }
  ]
}