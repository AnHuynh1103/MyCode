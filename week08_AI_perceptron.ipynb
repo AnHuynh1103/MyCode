{
  "nbformat": 4,
  "nbformat_minor": 0,
  "metadata": {
    "colab": {
      "provenance": []
    },
    "kernelspec": {
      "name": "python3",
      "display_name": "Python 3"
    },
    "language_info": {
      "name": "python"
    }
  },
  "cells": [
    {
      "cell_type": "code",
      "execution_count": 1,
      "metadata": {
        "colab": {
          "base_uri": "https://localhost:8080/"
        },
        "id": "d5D4MKQ6sYu3",
        "outputId": "7fb5ce27-52cf-4b95-f673-f64e6ccdd00b"
      },
      "outputs": [
        {
          "output_type": "execute_result",
          "data": {
            "text/plain": [
              "1.0"
            ]
          },
          "metadata": {},
          "execution_count": 1
        }
      ],
      "source": [
        "from sklearn.linear_model import Perceptron\n",
        "x = [[0,0],[0,1],[1,0],[1,1]]\n",
        "t = [0,1,1,1]\n",
        "\n",
        "model = Perceptron()\n",
        "model.fit(x,t)\n",
        "model.score(x,t)"
      ]
    },
    {
      "cell_type": "code",
      "source": [
        "x1 = [[0.5,0],[0.5,0],[0.5,0],[0.5,0]]\n",
        "y1 = model.predict(x1)\n",
        "model.score(x1,y1)\n",
        "print(y1)"
      ],
      "metadata": {
        "colab": {
          "base_uri": "https://localhost:8080/"
        },
        "id": "BbzL3HbPvAt4",
        "outputId": "094cb1c5-1e1c-40c3-ad78-c83ae6c44c0c"
      },
      "execution_count": 2,
      "outputs": [
        {
          "output_type": "stream",
          "name": "stdout",
          "text": [
            "[0 0 0 0]\n"
          ]
        }
      ]
    },
    {
      "cell_type": "code",
      "source": [
        "#1\n",
        "x = [[-0.5,-0.5],[-0.5,0.5],[0.3,-0.5],[-0.1,1]]\n",
        "t = [1,1,0,0]\n",
        "\n",
        "model = Perceptron()\n",
        "model.fit(x,t)\n",
        "model.score(x,t)"
      ],
      "metadata": {
        "colab": {
          "base_uri": "https://localhost:8080/"
        },
        "id": "AE8VfNd6ypqy",
        "outputId": "bcf1f559-cd65-4d79-ab96-d90ba7ff20c5"
      },
      "execution_count": 3,
      "outputs": [
        {
          "output_type": "execute_result",
          "data": {
            "text/plain": [
              "1.0"
            ]
          },
          "metadata": {},
          "execution_count": 3
        }
      ]
    },
    {
      "cell_type": "code",
      "source": [
        "x2 = [[0,0],[0,0],[0,0],[0,0]]\n",
        "y2 = model.predict(x2)\n",
        "model.score(x2,y2)\n",
        "print(y2)"
      ],
      "metadata": {
        "colab": {
          "base_uri": "https://localhost:8080/"
        },
        "id": "3jY8ecZozIjl",
        "outputId": "9ff648ef-2e5b-4e85-8f02-140ca33d3ec6"
      },
      "execution_count": 4,
      "outputs": [
        {
          "output_type": "stream",
          "name": "stdout",
          "text": [
            "[0 0 0 0]\n"
          ]
        }
      ]
    },
    {
      "cell_type": "code",
      "source": [
        "from sklearn.linear_model import Perceptron\n",
        "from sklearn import datasets\n",
        "from sklearn.model_selection import train_test_split\n",
        "from sklearn.metrics import accuracy_score\n",
        "from sklearn.preprocessing import StandardScaler\n",
        "import pandas as pd\n",
        "import numpy as np\n",
        "\n",
        "\n",
        "iris = datasets.load_iris()\n",
        "X = iris.data\n",
        "y = iris.target\n",
        "print(X[:5])\n",
        "print(y[:5])"
      ],
      "metadata": {
        "colab": {
          "base_uri": "https://localhost:8080/"
        },
        "id": "51wNOfjt1WbO",
        "outputId": "ef301ea7-bc48-4cdf-c2f7-713492447665"
      },
      "execution_count": 5,
      "outputs": [
        {
          "output_type": "stream",
          "name": "stdout",
          "text": [
            "[[5.1 3.5 1.4 0.2]\n",
            " [4.9 3.  1.4 0.2]\n",
            " [4.7 3.2 1.3 0.2]\n",
            " [4.6 3.1 1.5 0.2]\n",
            " [5.  3.6 1.4 0.2]]\n",
            "[0 0 0 0 0]\n"
          ]
        }
      ]
    },
    {
      "cell_type": "code",
      "source": [
        "X.shape"
      ],
      "metadata": {
        "colab": {
          "base_uri": "https://localhost:8080/"
        },
        "id": "I75vWBwd5FKr",
        "outputId": "f2697533-6064-489a-94f8-882176abf9d9"
      },
      "execution_count": 6,
      "outputs": [
        {
          "output_type": "execute_result",
          "data": {
            "text/plain": [
              "(150, 4)"
            ]
          },
          "metadata": {},
          "execution_count": 6
        }
      ]
    },
    {
      "cell_type": "code",
      "source": [
        "y.shape"
      ],
      "metadata": {
        "colab": {
          "base_uri": "https://localhost:8080/"
        },
        "id": "YN6k5J7d5MT2",
        "outputId": "57d57fee-32ea-4b84-af27-55904bafeb44"
      },
      "execution_count": 7,
      "outputs": [
        {
          "output_type": "execute_result",
          "data": {
            "text/plain": [
              "(150,)"
            ]
          },
          "metadata": {},
          "execution_count": 7
        }
      ]
    },
    {
      "cell_type": "code",
      "source": [
        "X_train,X_test,y_train,y_test = train_test_split(X,y,test_size = 0.3)\n",
        "sc = StandardScaler()\n",
        "sc.fit(X_train)\n",
        "X_train_std = sc.transform(X_train)\n",
        "X_test_std = sc.transform(X_test)\n",
        "print(X_train_std[:5],X_train[:5])\n",
        "print(y[:5])"
      ],
      "metadata": {
        "colab": {
          "base_uri": "https://localhost:8080/"
        },
        "id": "vgdJyIG48Rbm",
        "outputId": "2128ee27-fc65-4449-93b0-db2c2f05f38a"
      },
      "execution_count": 8,
      "outputs": [
        {
          "output_type": "stream",
          "name": "stdout",
          "text": [
            "[[-1.09291433  0.66797015 -1.50252704 -1.4423078 ]\n",
            " [ 0.93079114 -1.25358781  1.05992217  0.70390753]\n",
            " [-1.09291433 -2.45456153 -0.27953991 -0.36920014]\n",
            " [-0.14058234 -1.01339307  0.0116475  -0.10092322]\n",
            " [ 0.21654215 -0.53300358  0.0116475   0.03321524]] [[5.  3.3 1.4 0.2]\n",
            " [6.7 2.5 5.8 1.8]\n",
            " [5.  2.  3.5 1. ]\n",
            " [5.8 2.6 4.  1.2]\n",
            " [6.1 2.8 4.  1.3]]\n",
            "[0 0 0 0 0]\n"
          ]
        }
      ]
    },
    {
      "cell_type": "code",
      "source": [
        "model = Perceptron(max_iter = 1200,eta0 = 0.2, random_state = 0)\n",
        "model.fit(X_train_std,y_train)\n",
        "y_pred = model.predict(X_test_std)\n",
        "print(y_pred)\n",
        "print(y_test)\n",
        "print('Do chinh xac mo hinh: ',accuracy_score(y_test,y_pred))"
      ],
      "metadata": {
        "colab": {
          "base_uri": "https://localhost:8080/"
        },
        "id": "gIiedVbn8_ps",
        "outputId": "cbe56368-8e87-4672-a29c-5c13722c1b73"
      },
      "execution_count": 9,
      "outputs": [
        {
          "output_type": "stream",
          "name": "stdout",
          "text": [
            "[1 2 2 0 1 1 1 1 1 1 0 0 0 0 0 1 0 0 2 0 0 2 0 1 2 0 1 0 1 1 0 1 0 0 1 2 1\n",
            " 0 1 2 0 0 0 1 0]\n",
            "[1 2 2 0 1 1 2 1 1 1 0 0 0 0 0 1 0 0 2 0 0 2 0 2 2 1 1 0 1 1 0 2 0 0 1 2 1\n",
            " 0 1 2 0 0 0 2 0]\n",
            "Do chinh xac mo hinh:  0.8888888888888888\n"
          ]
        }
      ]
    },
    {
      "cell_type": "code",
      "source": [
        "url = 'crabs.csv'\n",
        "data = pd.read_csv(url)"
      ],
      "metadata": {
        "id": "zQRZXXvq_MNq"
      },
      "execution_count": 10,
      "outputs": []
    },
    {
      "cell_type": "code",
      "source": [
        "data.shape"
      ],
      "metadata": {
        "colab": {
          "base_uri": "https://localhost:8080/"
        },
        "id": "XbS3Oycv_7fJ",
        "outputId": "526752d0-edb2-4a1a-ef4a-a6320b732698"
      },
      "execution_count": 11,
      "outputs": [
        {
          "output_type": "execute_result",
          "data": {
            "text/plain": [
              "(200, 8)"
            ]
          },
          "metadata": {},
          "execution_count": 11
        }
      ]
    },
    {
      "cell_type": "code",
      "source": [
        "data"
      ],
      "metadata": {
        "colab": {
          "base_uri": "https://localhost:8080/",
          "height": 423
        },
        "id": "8MTg8gCmACH3",
        "outputId": "240ca362-8cd5-4fc1-f59d-a8a4041c6f41"
      },
      "execution_count": 12,
      "outputs": [
        {
          "output_type": "execute_result",
          "data": {
            "text/plain": [
              "    speies sex  index  fontallip  rearwidth  length  width  depth\n",
              "0        B   M      1        8.1        6.7    16.1   19.0    7.0\n",
              "1        B   M      2        8.8        7.7    18.1   20.8    7.4\n",
              "2        B   M      3        9.2        7.8    19.0   22.4    7.7\n",
              "3        B   M      4        9.6        7.9    20.1   23.1    8.2\n",
              "4        B   M      5        9.8        8.0    20.3   23.0    8.2\n",
              "..     ...  ..    ...        ...        ...     ...    ...    ...\n",
              "195      O   F     46       21.4       18.0    41.2   46.2   18.7\n",
              "196      O   F     47       21.7       17.1    41.7   47.2   19.6\n",
              "197      O   F     48       21.9       17.2    42.6   47.4   19.5\n",
              "198      O   F     49       22.5       17.2    43.0   48.7   19.8\n",
              "199      O   F     50       23.1       20.2    46.2   52.5   21.1\n",
              "\n",
              "[200 rows x 8 columns]"
            ],
            "text/html": [
              "\n",
              "  <div id=\"df-c8913b8f-5ca4-4ebf-84ca-b7b454a84e9e\">\n",
              "    <div class=\"colab-df-container\">\n",
              "      <div>\n",
              "<style scoped>\n",
              "    .dataframe tbody tr th:only-of-type {\n",
              "        vertical-align: middle;\n",
              "    }\n",
              "\n",
              "    .dataframe tbody tr th {\n",
              "        vertical-align: top;\n",
              "    }\n",
              "\n",
              "    .dataframe thead th {\n",
              "        text-align: right;\n",
              "    }\n",
              "</style>\n",
              "<table border=\"1\" class=\"dataframe\">\n",
              "  <thead>\n",
              "    <tr style=\"text-align: right;\">\n",
              "      <th></th>\n",
              "      <th>speies</th>\n",
              "      <th>sex</th>\n",
              "      <th>index</th>\n",
              "      <th>fontallip</th>\n",
              "      <th>rearwidth</th>\n",
              "      <th>length</th>\n",
              "      <th>width</th>\n",
              "      <th>depth</th>\n",
              "    </tr>\n",
              "  </thead>\n",
              "  <tbody>\n",
              "    <tr>\n",
              "      <th>0</th>\n",
              "      <td>B</td>\n",
              "      <td>M</td>\n",
              "      <td>1</td>\n",
              "      <td>8.1</td>\n",
              "      <td>6.7</td>\n",
              "      <td>16.1</td>\n",
              "      <td>19.0</td>\n",
              "      <td>7.0</td>\n",
              "    </tr>\n",
              "    <tr>\n",
              "      <th>1</th>\n",
              "      <td>B</td>\n",
              "      <td>M</td>\n",
              "      <td>2</td>\n",
              "      <td>8.8</td>\n",
              "      <td>7.7</td>\n",
              "      <td>18.1</td>\n",
              "      <td>20.8</td>\n",
              "      <td>7.4</td>\n",
              "    </tr>\n",
              "    <tr>\n",
              "      <th>2</th>\n",
              "      <td>B</td>\n",
              "      <td>M</td>\n",
              "      <td>3</td>\n",
              "      <td>9.2</td>\n",
              "      <td>7.8</td>\n",
              "      <td>19.0</td>\n",
              "      <td>22.4</td>\n",
              "      <td>7.7</td>\n",
              "    </tr>\n",
              "    <tr>\n",
              "      <th>3</th>\n",
              "      <td>B</td>\n",
              "      <td>M</td>\n",
              "      <td>4</td>\n",
              "      <td>9.6</td>\n",
              "      <td>7.9</td>\n",
              "      <td>20.1</td>\n",
              "      <td>23.1</td>\n",
              "      <td>8.2</td>\n",
              "    </tr>\n",
              "    <tr>\n",
              "      <th>4</th>\n",
              "      <td>B</td>\n",
              "      <td>M</td>\n",
              "      <td>5</td>\n",
              "      <td>9.8</td>\n",
              "      <td>8.0</td>\n",
              "      <td>20.3</td>\n",
              "      <td>23.0</td>\n",
              "      <td>8.2</td>\n",
              "    </tr>\n",
              "    <tr>\n",
              "      <th>...</th>\n",
              "      <td>...</td>\n",
              "      <td>...</td>\n",
              "      <td>...</td>\n",
              "      <td>...</td>\n",
              "      <td>...</td>\n",
              "      <td>...</td>\n",
              "      <td>...</td>\n",
              "      <td>...</td>\n",
              "    </tr>\n",
              "    <tr>\n",
              "      <th>195</th>\n",
              "      <td>O</td>\n",
              "      <td>F</td>\n",
              "      <td>46</td>\n",
              "      <td>21.4</td>\n",
              "      <td>18.0</td>\n",
              "      <td>41.2</td>\n",
              "      <td>46.2</td>\n",
              "      <td>18.7</td>\n",
              "    </tr>\n",
              "    <tr>\n",
              "      <th>196</th>\n",
              "      <td>O</td>\n",
              "      <td>F</td>\n",
              "      <td>47</td>\n",
              "      <td>21.7</td>\n",
              "      <td>17.1</td>\n",
              "      <td>41.7</td>\n",
              "      <td>47.2</td>\n",
              "      <td>19.6</td>\n",
              "    </tr>\n",
              "    <tr>\n",
              "      <th>197</th>\n",
              "      <td>O</td>\n",
              "      <td>F</td>\n",
              "      <td>48</td>\n",
              "      <td>21.9</td>\n",
              "      <td>17.2</td>\n",
              "      <td>42.6</td>\n",
              "      <td>47.4</td>\n",
              "      <td>19.5</td>\n",
              "    </tr>\n",
              "    <tr>\n",
              "      <th>198</th>\n",
              "      <td>O</td>\n",
              "      <td>F</td>\n",
              "      <td>49</td>\n",
              "      <td>22.5</td>\n",
              "      <td>17.2</td>\n",
              "      <td>43.0</td>\n",
              "      <td>48.7</td>\n",
              "      <td>19.8</td>\n",
              "    </tr>\n",
              "    <tr>\n",
              "      <th>199</th>\n",
              "      <td>O</td>\n",
              "      <td>F</td>\n",
              "      <td>50</td>\n",
              "      <td>23.1</td>\n",
              "      <td>20.2</td>\n",
              "      <td>46.2</td>\n",
              "      <td>52.5</td>\n",
              "      <td>21.1</td>\n",
              "    </tr>\n",
              "  </tbody>\n",
              "</table>\n",
              "<p>200 rows × 8 columns</p>\n",
              "</div>\n",
              "      <button class=\"colab-df-convert\" onclick=\"convertToInteractive('df-c8913b8f-5ca4-4ebf-84ca-b7b454a84e9e')\"\n",
              "              title=\"Convert this dataframe to an interactive table.\"\n",
              "              style=\"display:none;\">\n",
              "        \n",
              "  <svg xmlns=\"http://www.w3.org/2000/svg\" height=\"24px\"viewBox=\"0 0 24 24\"\n",
              "       width=\"24px\">\n",
              "    <path d=\"M0 0h24v24H0V0z\" fill=\"none\"/>\n",
              "    <path d=\"M18.56 5.44l.94 2.06.94-2.06 2.06-.94-2.06-.94-.94-2.06-.94 2.06-2.06.94zm-11 1L8.5 8.5l.94-2.06 2.06-.94-2.06-.94L8.5 2.5l-.94 2.06-2.06.94zm10 10l.94 2.06.94-2.06 2.06-.94-2.06-.94-.94-2.06-.94 2.06-2.06.94z\"/><path d=\"M17.41 7.96l-1.37-1.37c-.4-.4-.92-.59-1.43-.59-.52 0-1.04.2-1.43.59L10.3 9.45l-7.72 7.72c-.78.78-.78 2.05 0 2.83L4 21.41c.39.39.9.59 1.41.59.51 0 1.02-.2 1.41-.59l7.78-7.78 2.81-2.81c.8-.78.8-2.07 0-2.86zM5.41 20L4 18.59l7.72-7.72 1.47 1.35L5.41 20z\"/>\n",
              "  </svg>\n",
              "      </button>\n",
              "      \n",
              "  <style>\n",
              "    .colab-df-container {\n",
              "      display:flex;\n",
              "      flex-wrap:wrap;\n",
              "      gap: 12px;\n",
              "    }\n",
              "\n",
              "    .colab-df-convert {\n",
              "      background-color: #E8F0FE;\n",
              "      border: none;\n",
              "      border-radius: 50%;\n",
              "      cursor: pointer;\n",
              "      display: none;\n",
              "      fill: #1967D2;\n",
              "      height: 32px;\n",
              "      padding: 0 0 0 0;\n",
              "      width: 32px;\n",
              "    }\n",
              "\n",
              "    .colab-df-convert:hover {\n",
              "      background-color: #E2EBFA;\n",
              "      box-shadow: 0px 1px 2px rgba(60, 64, 67, 0.3), 0px 1px 3px 1px rgba(60, 64, 67, 0.15);\n",
              "      fill: #174EA6;\n",
              "    }\n",
              "\n",
              "    [theme=dark] .colab-df-convert {\n",
              "      background-color: #3B4455;\n",
              "      fill: #D2E3FC;\n",
              "    }\n",
              "\n",
              "    [theme=dark] .colab-df-convert:hover {\n",
              "      background-color: #434B5C;\n",
              "      box-shadow: 0px 1px 3px 1px rgba(0, 0, 0, 0.15);\n",
              "      filter: drop-shadow(0px 1px 2px rgba(0, 0, 0, 0.3));\n",
              "      fill: #FFFFFF;\n",
              "    }\n",
              "  </style>\n",
              "\n",
              "      <script>\n",
              "        const buttonEl =\n",
              "          document.querySelector('#df-c8913b8f-5ca4-4ebf-84ca-b7b454a84e9e button.colab-df-convert');\n",
              "        buttonEl.style.display =\n",
              "          google.colab.kernel.accessAllowed ? 'block' : 'none';\n",
              "\n",
              "        async function convertToInteractive(key) {\n",
              "          const element = document.querySelector('#df-c8913b8f-5ca4-4ebf-84ca-b7b454a84e9e');\n",
              "          const dataTable =\n",
              "            await google.colab.kernel.invokeFunction('convertToInteractive',\n",
              "                                                     [key], {});\n",
              "          if (!dataTable) return;\n",
              "\n",
              "          const docLinkHtml = 'Like what you see? Visit the ' +\n",
              "            '<a target=\"_blank\" href=https://colab.research.google.com/notebooks/data_table.ipynb>data table notebook</a>'\n",
              "            + ' to learn more about interactive tables.';\n",
              "          element.innerHTML = '';\n",
              "          dataTable['output_type'] = 'display_data';\n",
              "          await google.colab.output.renderOutput(dataTable, element);\n",
              "          const docLink = document.createElement('div');\n",
              "          docLink.innerHTML = docLinkHtml;\n",
              "          element.appendChild(docLink);\n",
              "        }\n",
              "      </script>\n",
              "    </div>\n",
              "  </div>\n",
              "  "
            ]
          },
          "metadata": {},
          "execution_count": 12
        }
      ]
    },
    {
      "cell_type": "code",
      "source": [
        "X_temp = data.drop(['sex'],axis = 1)\n",
        "X = X_temp.replace(['B','O'],[1,0])\n",
        "X = X.to_numpy()\n",
        "X"
      ],
      "metadata": {
        "colab": {
          "base_uri": "https://localhost:8080/"
        },
        "id": "hhWw-k52EwTk",
        "outputId": "1de16cf3-e864-448b-dc65-159427d2e6c6"
      },
      "execution_count": 13,
      "outputs": [
        {
          "output_type": "execute_result",
          "data": {
            "text/plain": [
              "array([[ 1. ,  1. ,  8.1, ..., 16.1, 19. ,  7. ],\n",
              "       [ 1. ,  2. ,  8.8, ..., 18.1, 20.8,  7.4],\n",
              "       [ 1. ,  3. ,  9.2, ..., 19. , 22.4,  7.7],\n",
              "       ...,\n",
              "       [ 0. , 48. , 21.9, ..., 42.6, 47.4, 19.5],\n",
              "       [ 0. , 49. , 22.5, ..., 43. , 48.7, 19.8],\n",
              "       [ 0. , 50. , 23.1, ..., 46.2, 52.5, 21.1]])"
            ]
          },
          "metadata": {},
          "execution_count": 13
        }
      ]
    },
    {
      "cell_type": "code",
      "source": [
        "y = data.drop(['speies','index','fontallip','rearwidth','length','width','depth'],axis = 1)\n",
        "y = y.to_numpy()\n",
        "y"
      ],
      "metadata": {
        "colab": {
          "base_uri": "https://localhost:8080/"
        },
        "id": "94rDoaHvRFUv",
        "outputId": "9a2b355d-207b-4408-903d-7c47535092de"
      },
      "execution_count": 14,
      "outputs": [
        {
          "output_type": "execute_result",
          "data": {
            "text/plain": [
              "array([['M'],\n",
              "       ['M'],\n",
              "       ['M'],\n",
              "       ['M'],\n",
              "       ['M'],\n",
              "       ['M'],\n",
              "       ['M'],\n",
              "       ['M'],\n",
              "       ['M'],\n",
              "       ['M'],\n",
              "       ['M'],\n",
              "       ['M'],\n",
              "       ['M'],\n",
              "       ['M'],\n",
              "       ['M'],\n",
              "       ['M'],\n",
              "       ['M'],\n",
              "       ['M'],\n",
              "       ['M'],\n",
              "       ['M'],\n",
              "       ['M'],\n",
              "       ['M'],\n",
              "       ['M'],\n",
              "       ['M'],\n",
              "       ['M'],\n",
              "       ['M'],\n",
              "       ['M'],\n",
              "       ['M'],\n",
              "       ['M'],\n",
              "       ['M'],\n",
              "       ['M'],\n",
              "       ['M'],\n",
              "       ['M'],\n",
              "       ['M'],\n",
              "       ['M'],\n",
              "       ['M'],\n",
              "       ['M'],\n",
              "       ['M'],\n",
              "       ['M'],\n",
              "       ['M'],\n",
              "       ['M'],\n",
              "       ['M'],\n",
              "       ['M'],\n",
              "       ['M'],\n",
              "       ['M'],\n",
              "       ['M'],\n",
              "       ['M'],\n",
              "       ['M'],\n",
              "       ['M'],\n",
              "       ['M'],\n",
              "       ['F'],\n",
              "       ['F'],\n",
              "       ['F'],\n",
              "       ['F'],\n",
              "       ['F'],\n",
              "       ['F'],\n",
              "       ['F'],\n",
              "       ['F'],\n",
              "       ['F'],\n",
              "       ['F'],\n",
              "       ['F'],\n",
              "       ['F'],\n",
              "       ['F'],\n",
              "       ['F'],\n",
              "       ['F'],\n",
              "       ['F'],\n",
              "       ['F'],\n",
              "       ['F'],\n",
              "       ['F'],\n",
              "       ['F'],\n",
              "       ['F'],\n",
              "       ['F'],\n",
              "       ['F'],\n",
              "       ['F'],\n",
              "       ['F'],\n",
              "       ['F'],\n",
              "       ['F'],\n",
              "       ['F'],\n",
              "       ['F'],\n",
              "       ['F'],\n",
              "       ['F'],\n",
              "       ['F'],\n",
              "       ['F'],\n",
              "       ['F'],\n",
              "       ['F'],\n",
              "       ['F'],\n",
              "       ['F'],\n",
              "       ['F'],\n",
              "       ['F'],\n",
              "       ['F'],\n",
              "       ['F'],\n",
              "       ['F'],\n",
              "       ['F'],\n",
              "       ['F'],\n",
              "       ['F'],\n",
              "       ['F'],\n",
              "       ['F'],\n",
              "       ['F'],\n",
              "       ['F'],\n",
              "       ['F'],\n",
              "       ['M'],\n",
              "       ['M'],\n",
              "       ['M'],\n",
              "       ['M'],\n",
              "       ['M'],\n",
              "       ['M'],\n",
              "       ['M'],\n",
              "       ['M'],\n",
              "       ['M'],\n",
              "       ['M'],\n",
              "       ['M'],\n",
              "       ['M'],\n",
              "       ['M'],\n",
              "       ['M'],\n",
              "       ['M'],\n",
              "       ['M'],\n",
              "       ['M'],\n",
              "       ['M'],\n",
              "       ['M'],\n",
              "       ['M'],\n",
              "       ['M'],\n",
              "       ['M'],\n",
              "       ['M'],\n",
              "       ['M'],\n",
              "       ['M'],\n",
              "       ['M'],\n",
              "       ['M'],\n",
              "       ['M'],\n",
              "       ['M'],\n",
              "       ['M'],\n",
              "       ['M'],\n",
              "       ['M'],\n",
              "       ['M'],\n",
              "       ['M'],\n",
              "       ['M'],\n",
              "       ['M'],\n",
              "       ['M'],\n",
              "       ['M'],\n",
              "       ['M'],\n",
              "       ['M'],\n",
              "       ['M'],\n",
              "       ['M'],\n",
              "       ['M'],\n",
              "       ['M'],\n",
              "       ['M'],\n",
              "       ['M'],\n",
              "       ['M'],\n",
              "       ['M'],\n",
              "       ['M'],\n",
              "       ['M'],\n",
              "       ['F'],\n",
              "       ['F'],\n",
              "       ['F'],\n",
              "       ['F'],\n",
              "       ['F'],\n",
              "       ['F'],\n",
              "       ['F'],\n",
              "       ['F'],\n",
              "       ['F'],\n",
              "       ['F'],\n",
              "       ['F'],\n",
              "       ['F'],\n",
              "       ['F'],\n",
              "       ['F'],\n",
              "       ['F'],\n",
              "       ['F'],\n",
              "       ['F'],\n",
              "       ['F'],\n",
              "       ['F'],\n",
              "       ['F'],\n",
              "       ['F'],\n",
              "       ['F'],\n",
              "       ['F'],\n",
              "       ['F'],\n",
              "       ['F'],\n",
              "       ['F'],\n",
              "       ['F'],\n",
              "       ['F'],\n",
              "       ['F'],\n",
              "       ['F'],\n",
              "       ['F'],\n",
              "       ['F'],\n",
              "       ['F'],\n",
              "       ['F'],\n",
              "       ['F'],\n",
              "       ['F'],\n",
              "       ['F'],\n",
              "       ['F'],\n",
              "       ['F'],\n",
              "       ['F'],\n",
              "       ['F'],\n",
              "       ['F'],\n",
              "       ['F'],\n",
              "       ['F'],\n",
              "       ['F'],\n",
              "       ['F'],\n",
              "       ['F'],\n",
              "       ['F'],\n",
              "       ['F'],\n",
              "       ['F']], dtype=object)"
            ]
          },
          "metadata": {},
          "execution_count": 14
        }
      ]
    },
    {
      "cell_type": "code",
      "source": [
        "X.shape"
      ],
      "metadata": {
        "colab": {
          "base_uri": "https://localhost:8080/"
        },
        "id": "HvAMSsLrRcCY",
        "outputId": "b4413363-3f37-455b-93d8-6916bb09d15a"
      },
      "execution_count": 15,
      "outputs": [
        {
          "output_type": "execute_result",
          "data": {
            "text/plain": [
              "(200, 7)"
            ]
          },
          "metadata": {},
          "execution_count": 15
        }
      ]
    },
    {
      "cell_type": "code",
      "source": [
        "y.shape"
      ],
      "metadata": {
        "colab": {
          "base_uri": "https://localhost:8080/"
        },
        "id": "euBF9IPZRedO",
        "outputId": "304ccc46-2c02-46c5-ce07-65f9b4833501"
      },
      "execution_count": 16,
      "outputs": [
        {
          "output_type": "execute_result",
          "data": {
            "text/plain": [
              "(200, 1)"
            ]
          },
          "metadata": {},
          "execution_count": 16
        }
      ]
    },
    {
      "cell_type": "code",
      "source": [
        "X_train,X_test,y_train,y_test = train_test_split(X,y,test_size = 0.3)\n",
        "sc = StandardScaler()\n",
        "sc.fit(X_train)\n",
        "X_train_std = sc.transform(X_train)\n",
        "X_test_std = sc.transform(X_test)\n",
        "print(X_train_std[:5],X_train[:5])\n",
        "print(y[:5])"
      ],
      "metadata": {
        "colab": {
          "base_uri": "https://localhost:8080/"
        },
        "id": "qLHdvkj7Rf4C",
        "outputId": "e7e5861e-df30-4a38-c76b-dc51a341a024"
      },
      "execution_count": 17,
      "outputs": [
        {
          "output_type": "stream",
          "name": "stdout",
          "text": [
            "[[ 1.04381619  0.06713289 -0.09527684 -0.40825855  0.07918863  0.09848505\n",
            "  -0.16283814]\n",
            " [-0.95802308  1.61118931  2.00081365  2.72767912  1.84445515  1.93198325\n",
            "   1.91216245]\n",
            " [-0.95802308  1.47692353  1.6741502   1.60770138  1.36301883  1.30859386\n",
            "   1.46949566]\n",
            " [ 1.04381619 -0.26853155 -0.80304766 -0.25892819 -0.76332493 -0.68380752\n",
            "  -0.85450501]\n",
            " [-0.95802308  0.67132888  1.0752672   1.42103842  1.00194159  0.84410765\n",
            "   1.10982889]] [[ 1.  27.  15.4 11.8 33.  37.5 13.6]\n",
            " [ 0.  50.  23.1 20.2 46.2 52.5 21.1]\n",
            " [ 0.  48.  21.9 17.2 42.6 47.4 19.5]\n",
            " [ 1.  22.  12.8 12.2 26.7 31.1 11.1]\n",
            " [ 0.  36.  19.7 16.7 39.9 43.6 18.2]]\n",
            "[['M']\n",
            " ['M']\n",
            " ['M']\n",
            " ['M']\n",
            " ['M']]\n"
          ]
        }
      ]
    },
    {
      "cell_type": "code",
      "source": [
        "model = Perceptron(max_iter = 1200,eta0 = 0.1, random_state = 0)\n",
        "model.fit(X_train_std,y_train)\n",
        "y_pred = model.predict(X_test_std)\n",
        "print(y_pred)\n",
        "print(y_test)\n",
        "print('Do chinh xac mo hinh: ',accuracy_score(y_test,y_pred))"
      ],
      "metadata": {
        "colab": {
          "base_uri": "https://localhost:8080/"
        },
        "id": "5Q3WlMooUV2r",
        "outputId": "ffd31e55-e94b-4317-a023-f6c38bddc939"
      },
      "execution_count": 18,
      "outputs": [
        {
          "output_type": "stream",
          "name": "stdout",
          "text": [
            "['F' 'F' 'F' 'M' 'M' 'M' 'M' 'M' 'M' 'F' 'F' 'M' 'M' 'M' 'M' 'M' 'M' 'M'\n",
            " 'M' 'F' 'M' 'F' 'M' 'M' 'F' 'F' 'F' 'M' 'M' 'F' 'F' 'F' 'F' 'M' 'F' 'F'\n",
            " 'F' 'M' 'F' 'M' 'M' 'M' 'M' 'M' 'M' 'M' 'M' 'F' 'M' 'F' 'F' 'M' 'M' 'M'\n",
            " 'M' 'M' 'F' 'F' 'M' 'F']\n",
            "[['F']\n",
            " ['F']\n",
            " ['F']\n",
            " ['M']\n",
            " ['M']\n",
            " ['M']\n",
            " ['M']\n",
            " ['M']\n",
            " ['F']\n",
            " ['F']\n",
            " ['F']\n",
            " ['M']\n",
            " ['F']\n",
            " ['M']\n",
            " ['M']\n",
            " ['M']\n",
            " ['M']\n",
            " ['M']\n",
            " ['M']\n",
            " ['F']\n",
            " ['M']\n",
            " ['F']\n",
            " ['M']\n",
            " ['M']\n",
            " ['F']\n",
            " ['F']\n",
            " ['F']\n",
            " ['M']\n",
            " ['M']\n",
            " ['F']\n",
            " ['F']\n",
            " ['F']\n",
            " ['F']\n",
            " ['M']\n",
            " ['F']\n",
            " ['F']\n",
            " ['F']\n",
            " ['M']\n",
            " ['F']\n",
            " ['M']\n",
            " ['M']\n",
            " ['M']\n",
            " ['M']\n",
            " ['M']\n",
            " ['M']\n",
            " ['M']\n",
            " ['M']\n",
            " ['F']\n",
            " ['M']\n",
            " ['F']\n",
            " ['F']\n",
            " ['M']\n",
            " ['M']\n",
            " ['M']\n",
            " ['M']\n",
            " ['F']\n",
            " ['F']\n",
            " ['F']\n",
            " ['M']\n",
            " ['F']]\n",
            "Do chinh xac mo hinh:  0.95\n"
          ]
        },
        {
          "output_type": "stream",
          "name": "stderr",
          "text": [
            "/usr/local/lib/python3.9/dist-packages/sklearn/utils/validation.py:1143: DataConversionWarning: A column-vector y was passed when a 1d array was expected. Please change the shape of y to (n_samples, ), for example using ravel().\n",
            "  y = column_or_1d(y, warn=True)\n"
          ]
        }
      ]
    }
  ]
}