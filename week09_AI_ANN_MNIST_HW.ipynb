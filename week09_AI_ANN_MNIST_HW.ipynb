{
  "nbformat": 4,
  "nbformat_minor": 0,
  "metadata": {
    "colab": {
      "provenance": []
    },
    "kernelspec": {
      "name": "python3",
      "display_name": "Python 3"
    },
    "language_info": {
      "name": "python"
    }
  },
  "cells": [
    {
      "cell_type": "code",
      "execution_count": 1,
      "metadata": {
        "id": "6Y9kIRFCgyLH"
      },
      "outputs": [],
      "source": [
        " from keras.datasets import mnist"
      ]
    },
    {
      "cell_type": "code",
      "source": [
        "(train_images,train_labels),(test_images,test_labels) = mnist.load_data()"
      ],
      "metadata": {
        "colab": {
          "base_uri": "https://localhost:8080/"
        },
        "id": "Ui8c2Exqo9WA",
        "outputId": "57c3c4e1-e453-4e2f-80e4-9104b8df2f17"
      },
      "execution_count": 2,
      "outputs": [
        {
          "output_type": "stream",
          "name": "stdout",
          "text": [
            "Downloading data from https://storage.googleapis.com/tensorflow/tf-keras-datasets/mnist.npz\n",
            "11490434/11490434 [==============================] - 0s 0us/step\n"
          ]
        }
      ]
    },
    {
      "cell_type": "code",
      "source": [
        "train_images.shape"
      ],
      "metadata": {
        "colab": {
          "base_uri": "https://localhost:8080/"
        },
        "id": "vWep4jzMpjjH",
        "outputId": "15ffd124-4a83-4249-9565-eea1bfebe644"
      },
      "execution_count": 3,
      "outputs": [
        {
          "output_type": "execute_result",
          "data": {
            "text/plain": [
              "(60000, 28, 28)"
            ]
          },
          "metadata": {},
          "execution_count": 3
        }
      ]
    },
    {
      "cell_type": "code",
      "source": [
        "train_labels.shape"
      ],
      "metadata": {
        "colab": {
          "base_uri": "https://localhost:8080/"
        },
        "id": "AxdGVZCnpq9M",
        "outputId": "c78ef091-f95a-4460-af09-18b648b14191"
      },
      "execution_count": 4,
      "outputs": [
        {
          "output_type": "execute_result",
          "data": {
            "text/plain": [
              "(60000,)"
            ]
          },
          "metadata": {},
          "execution_count": 4
        }
      ]
    },
    {
      "cell_type": "code",
      "source": [
        "test_images.shape"
      ],
      "metadata": {
        "colab": {
          "base_uri": "https://localhost:8080/"
        },
        "id": "4Fc-irhkptYQ",
        "outputId": "6849c3ca-a1e5-44e7-a938-791bec3a3fb1"
      },
      "execution_count": 5,
      "outputs": [
        {
          "output_type": "execute_result",
          "data": {
            "text/plain": [
              "(10000, 28, 28)"
            ]
          },
          "metadata": {},
          "execution_count": 5
        }
      ]
    },
    {
      "cell_type": "code",
      "source": [
        "test_labels.shape"
      ],
      "metadata": {
        "colab": {
          "base_uri": "https://localhost:8080/"
        },
        "id": "F2Nh7rf0pw5O",
        "outputId": "bb390730-e49a-4e22-ae70-de07b667209a"
      },
      "execution_count": 6,
      "outputs": [
        {
          "output_type": "execute_result",
          "data": {
            "text/plain": [
              "(10000,)"
            ]
          },
          "metadata": {},
          "execution_count": 6
        }
      ]
    },
    {
      "cell_type": "code",
      "source": [
        "import matplotlib.pyplot as plt"
      ],
      "metadata": {
        "id": "2Aqk6xoSq3dg"
      },
      "execution_count": 7,
      "outputs": []
    },
    {
      "cell_type": "code",
      "source": [
        "hinh = train_images[15460]\n",
        "plt.imshow(hinh,cmap=plt.cm.binary)\n",
        "plt.show\n",
        "print('So nay la: ',train_labels[15460])"
      ],
      "metadata": {
        "colab": {
          "base_uri": "https://localhost:8080/",
          "height": 448
        },
        "id": "DgzdzvYYqIaP",
        "outputId": "4d4c3150-6ec6-4360-eb12-80154cb4aa3d"
      },
      "execution_count": 8,
      "outputs": [
        {
          "output_type": "stream",
          "name": "stdout",
          "text": [
            "So nay la:  7\n"
          ]
        },
        {
          "output_type": "display_data",
          "data": {
            "text/plain": [
              "<Figure size 640x480 with 1 Axes>"
            ],
            "image/png": "[encoded data removed]"
          },
          "metadata": {}
        }
      ]
    },
    {
      "cell_type": "code",
      "source": [
        "for i in range(15):\n",
        "  plt.subplot(3,5,i+1)\n",
        "  plt.tight_layout()\n",
        "  plt.imshow(train_images[i],cmap = 'gray',\n",
        "             interpolation = 'none')\n",
        "  plt.title('So : {}'.format(train_labels[i]))\n",
        "  plt.xticks([])\n",
        "  plt.yticks([])\n"
      ],
      "metadata": {
        "colab": {
          "base_uri": "https://localhost:8080/",
          "height": 481
        },
        "id": "rTTvTgcmrRlM",
        "outputId": "4d0ce9a1-eef1-43e7-be38-b9d2aac2f1fe"
      },
      "execution_count": 9,
      "outputs": [
        {
          "output_type": "stream",
          "name": "stderr",
          "text": [
            "<ipython-input-9-83bf64c86aa0>:2: MatplotlibDeprecationWarning: Auto-removal of overlapping axes is deprecated since 3.6 and will be removed two minor releases later; explicitly call ax.remove() as needed.\n",
            "  plt.subplot(3,5,i+1)\n"
          ]
        },
        {
          "output_type": "display_data",
          "data": {
            "text/plain": [
              "<Figure size 640x480 with 14 Axes>"
            ],
            "image/png": "[encoded data removed]"
          },
          "metadata": {}
        }
      ]
    },
    {
      "cell_type": "code",
      "source": [
        "from keras import models\n",
        "from keras.layers import Dense"
      ],
      "metadata": {
        "id": "F2xXWaW9sYdS"
      },
      "execution_count": 10,
      "outputs": []
    },
    {
      "cell_type": "code",
      "source": [
        "from keras.models import Sequential"
      ],
      "metadata": {
        "id": "QzuwTm7MtpC6"
      },
      "execution_count": 11,
      "outputs": []
    },
    {
      "cell_type": "code",
      "source": [
        "model = Sequential()"
      ],
      "metadata": {
        "id": "pI1Fq3LutwG2"
      },
      "execution_count": 12,
      "outputs": []
    },
    {
      "cell_type": "code",
      "source": [
        "from keras.layers.serialization import activation\n",
        "model.add(Dense(512,activation = 'relu',input_shape = (28*28,)))\n",
        "model.add(Dense(10,activation = 'softmax'))\n",
        "model.summary()"
      ],
      "metadata": {
        "colab": {
          "base_uri": "https://localhost:8080/"
        },
        "id": "E7Kaza2vwbbn",
        "outputId": "569bd012-9dbc-457e-b950-181f8da33fc4"
      },
      "execution_count": 13,
      "outputs": [
        {
          "output_type": "stream",
          "name": "stdout",
          "text": [
            "Model: \"sequential\"\n",
            "_________________________________________________________________\n",
            " Layer (type)                Output Shape              Param #   \n",
            "=================================================================\n",
            " dense (Dense)               (None, 512)               401920    \n",
            "                                                                 \n",
            " dense_1 (Dense)             (None, 10)                5130      \n",
            "                                                                 \n",
            "=================================================================\n",
            "Total params: 407,050\n",
            "Trainable params: 407,050\n",
            "Non-trainable params: 0\n",
            "_________________________________________________________________\n"
          ]
        }
      ]
    },
    {
      "cell_type": "code",
      "source": [
        "train_images = train_images.reshape((60000,28*28))\n",
        "train_images = train_images.astype('float32')/255"
      ],
      "metadata": {
        "id": "vX2EgWEVyeYv"
      },
      "execution_count": 14,
      "outputs": []
    },
    {
      "cell_type": "code",
      "source": [
        "test_images = test_images.reshape((10000,28*28))\n",
        "test_images = test_images.astype('float32')/255"
      ],
      "metadata": {
        "id": "nz0i6NnszLi3"
      },
      "execution_count": 15,
      "outputs": []
    },
    {
      "cell_type": "code",
      "source": [
        "train_images.shape"
      ],
      "metadata": {
        "colab": {
          "base_uri": "https://localhost:8080/"
        },
        "id": "qBbQhHEg7OqC",
        "outputId": "8a62d0b0-d92e-457c-a14b-f0ab98692da3"
      },
      "execution_count": 16,
      "outputs": [
        {
          "output_type": "execute_result",
          "data": {
            "text/plain": [
              "(60000, 784)"
            ]
          },
          "metadata": {},
          "execution_count": 16
        }
      ]
    },
    {
      "cell_type": "code",
      "source": [
        "test_images.shape"
      ],
      "metadata": {
        "colab": {
          "base_uri": "https://localhost:8080/"
        },
        "id": "JGZRE0GH7O5n",
        "outputId": "edffd3c1-1759-4e54-8193-80ed61f096fd"
      },
      "execution_count": 17,
      "outputs": [
        {
          "output_type": "execute_result",
          "data": {
            "text/plain": [
              "(10000, 784)"
            ]
          },
          "metadata": {},
          "execution_count": 17
        }
      ]
    },
    {
      "cell_type": "code",
      "source": [
        "from keras.utils import to_categorical #ONE HOT ENCODING"
      ],
      "metadata": {
        "id": "85plkGFZztL2"
      },
      "execution_count": 18,
      "outputs": []
    },
    {
      "cell_type": "code",
      "source": [
        "train_labels = to_categorical(train_labels,10)"
      ],
      "metadata": {
        "id": "Kt49ltbXz8SZ"
      },
      "execution_count": 19,
      "outputs": []
    },
    {
      "cell_type": "code",
      "source": [
        "test_labels = to_categorical(test_labels,10)"
      ],
      "metadata": {
        "id": "5uCumSnL0Puz"
      },
      "execution_count": 20,
      "outputs": []
    },
    {
      "cell_type": "code",
      "source": [
        "model.compile(optimizer = 'rmsprop',loss = 'categorical_crossentropy',\n",
        "              metrics=['accuracy'])"
      ],
      "metadata": {
        "id": "Qgl0V7fr0XK5"
      },
      "execution_count": 21,
      "outputs": []
    },
    {
      "cell_type": "code",
      "source": [
        "model.fit(train_images,train_labels,epochs = 10, batch_size = 128)"
      ],
      "metadata": {
        "colab": {
          "base_uri": "https://localhost:8080/"
        },
        "id": "cVWXPEr_1zpm",
        "outputId": "92494ba6-a433-4f8e-f1b6-28d4bc38bbd8"
      },
      "execution_count": 28,
      "outputs": [
        {
          "output_type": "stream",
          "name": "stdout",
          "text": [
            "Epoch 1/10\n",
            "469/469 [==============================] - 6s 14ms/step - loss: 3.0607e-04 - accuracy: 1.0000\n",
            "Epoch 2/10\n",
            "469/469 [==============================] - 5s 11ms/step - loss: 2.7139e-04 - accuracy: 1.0000\n",
            "Epoch 3/10\n",
            "469/469 [==============================] - 6s 13ms/step - loss: 2.4091e-04 - accuracy: 1.0000\n",
            "Epoch 4/10\n",
            "469/469 [==============================] - 6s 12ms/step - loss: 2.1930e-04 - accuracy: 1.0000\n",
            "Epoch 5/10\n",
            "469/469 [==============================] - 5s 11ms/step - loss: 2.0131e-04 - accuracy: 1.0000\n",
            "Epoch 6/10\n",
            "469/469 [==============================] - 6s 14ms/step - loss: 1.9038e-04 - accuracy: 1.0000\n",
            "Epoch 7/10\n",
            "469/469 [==============================] - 5s 11ms/step - loss: 1.7507e-04 - accuracy: 1.0000\n",
            "Epoch 8/10\n",
            "469/469 [==============================] - 8s 16ms/step - loss: 1.6561e-04 - accuracy: 1.0000\n",
            "Epoch 9/10\n",
            "469/469 [==============================] - 5s 11ms/step - loss: 1.5640e-04 - accuracy: 1.0000\n",
            "Epoch 10/10\n",
            "469/469 [==============================] - 7s 15ms/step - loss: 1.4796e-04 - accuracy: 1.0000\n"
          ]
        },
        {
          "output_type": "execute_result",
          "data": {
            "text/plain": [
              "<keras.callbacks.History at 0x7fb5dec07fa0>"
            ]
          },
          "metadata": {},
          "execution_count": 28
        }
      ]
    },
    {
      "cell_type": "code",
      "source": [
        "test_loss,test_acc = model.evaluate(test_images,test_labels)"
      ],
      "metadata": {
        "colab": {
          "base_uri": "https://localhost:8080/"
        },
        "id": "l_TQB55t186c",
        "outputId": "fecce073-7c21-43fb-ac31-f000167990fa"
      },
      "execution_count": 29,
      "outputs": [
        {
          "output_type": "stream",
          "name": "stdout",
          "text": [
            "313/313 [==============================] - 1s 3ms/step - loss: 0.0718 - accuracy: 0.9835\n"
          ]
        }
      ]
    },
    {
      "cell_type": "code",
      "source": [
        "print('Do chinh xac tren tap kiem tra: ',test_acc)\n",
        "print('Ham mat mat tren tap kiem tra: ',test_loss)"
      ],
      "metadata": {
        "colab": {
          "base_uri": "https://localhost:8080/"
        },
        "id": "HYxRcQLo2wtE",
        "outputId": "0c366031-66a7-4d66-bebc-2dbf65152586"
      },
      "execution_count": 30,
      "outputs": [
        {
          "output_type": "stream",
          "name": "stdout",
          "text": [
            "Do chinh xac tren tap kiem tra:  0.9835000038146973\n",
            "Ham mat mat tren tap kiem tra:  0.07176004350185394\n"
          ]
        }
      ]
    },
    {
      "cell_type": "code",
      "source": [
        "model.save('model_mnist_1.h5')"
      ],
      "metadata": {
        "id": "pJK4PYpq3ITP"
      },
      "execution_count": 31,
      "outputs": []
    },
    {
      "cell_type": "code",
      "source": [
        "from keras.saving.legacy.save import load_model\n",
        "model11 = load_model('model_mnist_1.h5')"
      ],
      "metadata": {
        "id": "SA-1SjBu7w8O"
      },
      "execution_count": 32,
      "outputs": []
    },
    {
      "cell_type": "code",
      "source": [
        "from keras.utils import load_img\n",
        "import cv2 as cv\n",
        "import numpy as np"
      ],
      "metadata": {
        "id": "o65optWxxSQI"
      },
      "execution_count": 33,
      "outputs": []
    },
    {
      "cell_type": "code",
      "source": [
        "model11.predict(test_images)"
      ],
      "metadata": {
        "colab": {
          "base_uri": "https://localhost:8080/"
        },
        "id": "lpzoj4g68I1Q",
        "outputId": "d28be5b6-c117-4be7-b83e-fd0ce032a06e"
      },
      "execution_count": 34,
      "outputs": [
        {
          "output_type": "stream",
          "name": "stdout",
          "text": [
            "313/313 [==============================] - 1s 4ms/step\n"
          ]
        },
        {
          "output_type": "execute_result",
          "data": {
            "text/plain": [
              "array([[1.3428023e-13, 4.3474176e-14, 1.1093319e-11, ..., 9.9999994e-01,\n",
              "        1.2559394e-12, 7.1705079e-11],\n",
              "       [9.8653873e-14, 4.4522125e-10, 9.9999994e-01, ..., 1.6304835e-22,\n",
              "        1.2347528e-11, 1.0853864e-22],\n",
              "       [3.2498182e-12, 9.9999911e-01, 1.1716044e-07, ..., 5.3248019e-08,\n",
              "        5.9294274e-07, 1.4284351e-12],\n",
              "       ...,\n",
              "       [9.6709507e-23, 2.4502008e-18, 5.9057598e-23, ..., 1.1284445e-11,\n",
              "        4.0219642e-13, 4.3426981e-12],\n",
              "       [2.8927137e-14, 3.1249606e-18, 9.6291495e-19, ..., 5.1569500e-17,\n",
              "        1.7088394e-07, 2.8625632e-19],\n",
              "       [1.3410912e-15, 3.5640521e-20, 1.3396902e-15, ..., 3.8979803e-22,\n",
              "        1.1065342e-18, 3.4353971e-19]], dtype=float32)"
            ]
          },
          "metadata": {},
          "execution_count": 34
        }
      ]
    },
    {
      "cell_type": "code",
      "source": [
        "from skimage import color\n",
        "from skimage import io\n",
        "from keras.utils import img_to_array"
      ],
      "metadata": {
        "id": "vAwu_3AG5gnI"
      },
      "execution_count": 35,
      "outputs": []
    },
    {
      "cell_type": "code",
      "source": [
        "file = 'test_7.jpg'\n",
        "test_img = cv.imread(file,cv.IMREAD_GRAYSCALE)"
      ],
      "metadata": {
        "id": "mviuuIFTFN5P"
      },
      "execution_count": 36,
      "outputs": []
    },
    {
      "cell_type": "code",
      "source": [
        "plt.imshow(test_img,cmap='gray')"
      ],
      "metadata": {
        "colab": {
          "base_uri": "https://localhost:8080/",
          "height": 448
        },
        "id": "nFKDw6FlGCOX",
        "outputId": "dc706d72-b551-4d93-c76a-89d8c36788d4"
      },
      "execution_count": 37,
      "outputs": [
        {
          "output_type": "execute_result",
          "data": {
            "text/plain": [
              "<matplotlib.image.AxesImage at 0x7fb5b6c9ec40>"
            ]
          },
          "metadata": {},
          "execution_count": 37
        },
        {
          "output_type": "display_data",
          "data": {
            "text/plain": [
              "<Figure size 640x480 with 1 Axes>"
            ],
            "image/png": "[encoded data removed]"
          },
          "metadata": {}
        }
      ]
    },
    {
      "cell_type": "code",
      "source": [
        "#img = load_img(file,target_size = (28,28))"
      ],
      "metadata": {
        "id": "fXInxRyr5il_"
      },
      "execution_count": 38,
      "outputs": []
    },
    {
      "cell_type": "code",
      "source": [
        "img = cv.resize(test_img, (28,28),interpolation=cv.INTER_LINEAR)\n",
        "img = cv.bitwise_not(img)"
      ],
      "metadata": {
        "id": "WpiEZvA3-oAo"
      },
      "execution_count": 39,
      "outputs": []
    },
    {
      "cell_type": "code",
      "source": [
        "plt.imshow(img,cmap='gray')"
      ],
      "metadata": {
        "id": "xuMVlRQVUva3",
        "outputId": "f8f16906-759a-42f1-8745-9edaed7eb274",
        "colab": {
          "base_uri": "https://localhost:8080/",
          "height": 448
        }
      },
      "execution_count": 40,
      "outputs": [
        {
          "output_type": "execute_result",
          "data": {
            "text/plain": [
              "<matplotlib.image.AxesImage at 0x7fb5b6c18a90>"
            ]
          },
          "metadata": {},
          "execution_count": 40
        },
        {
          "output_type": "display_data",
          "data": {
            "text/plain": [
              "<Figure size 640x480 with 1 Axes>"
            ],
            "image/png": "[encoded data removed]"
          },
          "metadata": {}
        }
      ]
    },
    {
      "cell_type": "code",
      "source": [
        "from keras.utils.image_utils import img_to_array"
      ],
      "metadata": {
        "id": "mGxhsgPL_KHt"
      },
      "execution_count": 41,
      "outputs": []
    },
    {
      "cell_type": "code",
      "source": [
        "img = img_to_array(img)"
      ],
      "metadata": {
        "id": "-zhFChpMCNTT"
      },
      "execution_count": 42,
      "outputs": []
    },
    {
      "cell_type": "code",
      "source": [
        "img.size"
      ],
      "metadata": {
        "colab": {
          "base_uri": "https://localhost:8080/"
        },
        "id": "gBszGr0g4Eg9",
        "outputId": "e24fd6be-61ed-4763-f749-bf675e900169"
      },
      "execution_count": 43,
      "outputs": [
        {
          "output_type": "execute_result",
          "data": {
            "text/plain": [
              "784"
            ]
          },
          "metadata": {},
          "execution_count": 43
        }
      ]
    },
    {
      "cell_type": "code",
      "source": [
        "img = img.reshape(1,28*28)"
      ],
      "metadata": {
        "id": "dYtxdKUVBQ0x"
      },
      "execution_count": 44,
      "outputs": []
    },
    {
      "cell_type": "code",
      "source": [
        "#img = img.reshape(3,28*28)"
      ],
      "metadata": {
        "id": "kgpCy60v9AQJ"
      },
      "execution_count": 45,
      "outputs": []
    },
    {
      "cell_type": "code",
      "source": [
        "img = img.astype('float32')"
      ],
      "metadata": {
        "id": "pkI0wNMkFPvi"
      },
      "execution_count": 46,
      "outputs": []
    },
    {
      "cell_type": "code",
      "source": [
        "img = img/255"
      ],
      "metadata": {
        "id": "mOvWn7BiFe5C"
      },
      "execution_count": 47,
      "outputs": []
    },
    {
      "cell_type": "code",
      "source": [
        "print('Day la so:',np.argmax(model11.predict(img),axis = 1))"
      ],
      "metadata": {
        "colab": {
          "base_uri": "https://localhost:8080/"
        },
        "id": "ZsOpzEbZFhDl",
        "outputId": "5f444f49-7250-4156-8f64-109945daad55"
      },
      "execution_count": 48,
      "outputs": [
        {
          "output_type": "stream",
          "name": "stdout",
          "text": [
            "1/1 [==============================] - 0s 25ms/step\n",
            "Day la so: [6]\n"
          ]
        }
      ]
    }
  ]
}